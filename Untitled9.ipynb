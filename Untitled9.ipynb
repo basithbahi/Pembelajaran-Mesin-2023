{
  "nbformat": 4,
  "nbformat_minor": 0,
  "metadata": {
    "colab": {
      "provenance": [],
      "gpuType": "T4",
      "authorship_tag": "ABX9TyNvSrlA9JNvHd93wl3rgPFS",
      "include_colab_link": true
    },
    "kernelspec": {
      "name": "python3",
      "display_name": "Python 3"
    },
    "language_info": {
      "name": "python"
    },
    "accelerator": "GPU"
  },
  "cells": [
    {
      "cell_type": "markdown",
      "metadata": {
        "id": "view-in-github",
        "colab_type": "text"
      },
      "source": [
        "<a href=\"https://colab.research.google.com/github/basithbahi/Pembelajaran-Mesin-2023/blob/main/Untitled9.ipynb\" target=\"_parent\"><img src=\"https://colab.research.google.com/assets/colab-badge.svg\" alt=\"Open In Colab\"/></a>"
      ]
    },
    {
      "cell_type": "markdown",
      "source": [
        "    Nama:   Abdul Basith Bahi\n",
        "    NIM:    2141720177\n",
        "    Kelas:  3H"
      ],
      "metadata": {
        "id": "QcQJ7pxnFT3t"
      }
    },
    {
      "cell_type": "markdown",
      "source": [
        "# **Praktikum 1**"
      ],
      "metadata": {
        "id": "AMI82QN3GEDl"
      }
    },
    {
      "cell_type": "markdown",
      "source": [
        "# Setup"
      ],
      "metadata": {
        "id": "X6rZp0SsF-iF"
      }
    },
    {
      "cell_type": "code",
      "execution_count": null,
      "metadata": {
        "id": "o9zYi6VdFM9v"
      },
      "outputs": [],
      "source": [
        "import numpy as np\n",
        "import tensorflow_datasets as tfds\n",
        "import tensorflow as tf\n",
        "\n",
        "tfds.disable_progress_bar()"
      ]
    },
    {
      "cell_type": "code",
      "source": [
        "import matplotlib.pyplot as plt\n",
        "\n",
        "def plot_graphs(history, metric):\n",
        "  plt.plot(history.history[metric])\n",
        "  plt.plot(history.history['val_'+metric], '')\n",
        "  plt.xlabel(\"Epochs\")\n",
        "  plt.ylabel(metric)\n",
        "  plt.legend([metric, 'val_'+metric])"
      ],
      "metadata": {
        "id": "LKw-DJUSFqSY"
      },
      "execution_count": null,
      "outputs": []
    },
    {
      "cell_type": "markdown",
      "source": [
        "# Setup input pipeline"
      ],
      "metadata": {
        "id": "ulqJvBjeGNm5"
      }
    },
    {
      "cell_type": "code",
      "source": [
        "dataset, info = tfds.load('imdb_reviews', with_info=True,\n",
        "                          as_supervised=True)\n",
        "train_dataset, test_dataset = dataset['train'], dataset['test']\n",
        "\n",
        "train_dataset.element_spec"
      ],
      "metadata": {
        "colab": {
          "base_uri": "https://localhost:8080/"
        },
        "id": "zMU4pD3nGSWN",
        "outputId": "89d45ef3-a694-465b-a80a-4407255a242b"
      },
      "execution_count": null,
      "outputs": [
        {
          "output_type": "execute_result",
          "data": {
            "text/plain": [
              "(TensorSpec(shape=(), dtype=tf.string, name=None),\n",
              " TensorSpec(shape=(), dtype=tf.int64, name=None))"
            ]
          },
          "metadata": {},
          "execution_count": 9
        }
      ]
    },
    {
      "cell_type": "code",
      "source": [
        "for example, label in train_dataset.take(1):\n",
        "  print('text: ', example.numpy())\n",
        "  print('label: ', label.numpy())"
      ],
      "metadata": {
        "colab": {
          "base_uri": "https://localhost:8080/"
        },
        "id": "kQu1KZ6TGaxK",
        "outputId": "2bfd7d0e-defc-4d84-f6bb-4b1ab85806a2"
      },
      "execution_count": null,
      "outputs": [
        {
          "output_type": "stream",
          "name": "stdout",
          "text": [
            "text:  b\"This was an absolutely terrible movie. Don't be lured in by Christopher Walken or Michael Ironside. Both are great actors, but this must simply be their worst role in history. Even their great acting could not redeem this movie's ridiculous storyline. This movie is an early nineties US propaganda piece. The most pathetic scenes were those when the Columbian rebels were making their cases for revolutions. Maria Conchita Alonso appeared phony, and her pseudo-love affair with Walken was nothing but a pathetic emotional plug in a movie that was devoid of any real meaning. I am disappointed that there are movies like this, ruining actor's like Christopher Walken's good name. I could barely sit through it.\"\n",
            "label:  0\n"
          ]
        }
      ]
    },
    {
      "cell_type": "code",
      "source": [
        "BUFFER_SIZE = 10000\n",
        "BATCH_SIZE = 64\n",
        "\n",
        "train_dataset = train_dataset.shuffle(BUFFER_SIZE).batch(BATCH_SIZE).prefetch(tf.data.AUTOTUNE)\n",
        "test_dataset = test_dataset.batch(BATCH_SIZE).prefetch(tf.data.AUTOTUNE)\n",
        "\n",
        "for example, label in train_dataset.take(1):\n",
        "  print('texts: ', example.numpy()[:3])\n",
        "  print()\n",
        "  print('labels: ', label.numpy()[:3])\n"
      ],
      "metadata": {
        "colab": {
          "base_uri": "https://localhost:8080/"
        },
        "id": "2NkzQXgJGc--",
        "outputId": "f6860b02-603f-492d-827c-df8011eff585"
      },
      "execution_count": null,
      "outputs": [
        {
          "output_type": "stream",
          "name": "stdout",
          "text": [
            "texts:  [b'There\\'s a great deal of material from the Modesty Blaise comics and novels that would be great in a movie. Unfortunately, several attempts have been made and they\\'ve fallen short of the great potential in the character. So, no, this isn\\'t the Modesty you know from the comic strip (currently reprinted in nice editions from Titan Books). This is Modesty some 5 or 6 years prior to the first strip, and from what you can piece together from her back-story, it\\'s accurate.<br /><br />Miramax had the movie rights to the character, with Quentin Tarantino acting as advocate and technical adviser. Early drafts of the Miramax project attempted to adapt one of the best novels, but always managed to leave out some crucial element. Tarantino wasn\\'t happy with any of them, and offered to remove his name from the project so they could proceed. To the studio\\'s credit, they wanted to keep him in the process, since they knew he \"got\" the character and her world. With the movie rights close to expiration, they decided to try a very different approach. The result was \"My Name is Modesty,\" a small direct-to-video movie that introduces the character.<br /><br />The movie does not introduce Willie Garvin or Sir Gerald. These characters are important to Blaise\\'s adventures throughout most of the published stories. What this movie accomplishes is showing the strength of the character by herself. She never loses her composure, and you never doubt that she\\'s in charge even unarmed in a room full of gangsters with guns. Most of the movie takes place within a casino, which undoubtedly saved money on the production. It doesn\\'t matter. The film does not come across as cheap. Instead, it gives a fairly comprehensive (and believable) back-story for the character and demonstrates just how far she thinks ahead. Should Miramax adapt any of the comic stories or novels now, they\\'ve laid out the character\\'s background nicely and won\\'t have to spend much time on her \"origin.\" I realize the words \"Direct-to-Video\" don\\'t inspire confidence, but this film is well worth a look.'\n",
            " b'The 100 black and white half-hour episodes of the early situation comedy \"Mr. Peepers\" were originally broadcast from 1952-55 on NBC. Like a lot of baby boomers this and \"Ding Dong School\" are my earliest memories of television. Since both ran later in syndication it is hard to tell how many of these memories are actually tied to the original broadcasts.<br /><br />\"Mr. Peepers\" is worth checking out for more than its nostalgia value. It represents a very different style of situation comedy than shows like \"The Honeymooners\" and \"I Love Lucy\". The genre could have gone in two different directions in those days and ended up taking the loud abrasive path of those two shows; which is probably why they still seem contemporary. <br /><br />\"Mr. Peepers\", which was differentiated by its intelligent restrained tone, may appear slow and dull in comparison. But it\\'s really more a matter of adjusting to the different style. Once you get into the characters it will win over most intelligent viewers. Credit should be give to the show\\'s producer, Fred Coe, a key figure in early television whose dramatic anthologies are also worth checking out (\"Philco Television Playhouse\", \"Lights Out\", \"Playhouse 90\", \"Producers Showcase\", \"Playwrights 56\", \"Fireside Theatre\", etc.) even on kinescope.<br /><br />\"Mr. Peepers\" offered a much more gentle style with Wally Cox (to be the voice of \"Underdog\" a few years later) in the title role, Robinson Peepers, a mild-mannered high school science teacher. His glasses were his trademark and a symbolic link to his name and role as a passive observer. <br /><br />The series provided Cox with an outstanding supporting cast. Tony Randall played his brash best friend, history teacher Harvey Weskit. Jack Warden played Frank Whip, the loud gym teacher whose mild bullying gave the show most of its conflict elements. <br /><br />There is some love interest competition involving the school\\'s nurse, Nancy Remington (Patricia Benoit), with viewers quickly aligning with Mr. Peepers who seems a much better match for the gentle Nancy. Their on-screen marriage near the end 1953-54 season captured national attention, an early version of the \"Who Shot J.R.?\" frenzy.<br /><br />Then again, what do I know? I\\'m only a child.'\n",
            " b'I am always wary of taking too instant a dislike to a film. Look at it a month later and you might see it differently, or dig it up after 50 years in a different continent and some cult followers find something stylistically remarkable that went unnoticed at first. After sitting through The Great Ecstasy of Robert Carmichael at its UK premiere, it came as no surprise to me that I found the question and answer session afterwards more interesting than the film itself. Shane Danielsen (Artistic Director of the Edinburgh International Film Festival), aided by the film\\'s director and producer, gave a spirited defence of a movie than received an overall negative response from the audience. Edinburgh Festival audiences are not easily shocked. Only one person walked out in disgust. The criticisms of the film included very articulate and constructive ones from the lay public as well as an actor and a woman who teaches M.A. film directors. This was not an overly \\'shocking\\' film. There was a degree of uninterrupted sexual violence, but far less extreme than many movies (most actual weapon contact was obscured, as were aroused genitals). The audience disliked it because they had sat through two hours that were quite boring, where the acting standards were not high, where the plot was poor, predictable and drawn out, and where they had been subjected to clumsy and pretentious film-making on the promise of a controversial movie. Metaphors to the war in Iraq are contrived, over-emphasised and sloppy (apart from a general allusion to violence, any deeper meaning is unclear); and the \\'fig-leaf\\' reference Marquis de Sade, as one audience member put it, seems a mere tokenistic excuse for lack of plot development towards the finale.<br /><br />We have the story of an adolescent who has a certain amount going for him (he stands out at school for his musical ability) but takes drugs and hangs out with youths who have little or nothing going for them and whose criminal activities extend to rape and violence. When pushed, Robert seems to have a lot of violence locked inside him.<br /><br />The film is not entirely without merit. The audience is left to decide how Robert got that way: was it the influence of his peers? Why did all the good influences and concern from parents and teachers not manage to include him in a better approach to life? Cinematically, there is a carefully-montaged scene where he hangs back (whether through too much drugs, shyness, a latent sense of morality or just waiting his turn?). Several of his friends are raping a woman in a back room, partly glimpsed and framed in the centre of the screen. In the foreground of the bare bones flat, a DJ is more concerned that the girl\\'s screams interrupt his happy house music than with any thought for the woman. Ultimately he is a bit annoyed if their activities attract police attention. The stark juxtaposition of serious headphones enjoyment of his music even when he knows a rape is going on points up his utter disdain in a deeply unsettling way. Robert slumps with his back to us in the foreground.<br /><br />But the rest of the film, including its supposedly controversial climax involving considerable (if not overly realistic) sexual violence, is not up to this standard. Some people have had a strong reaction to it (the filmmakers\\' stated intention: \"If they vomit, we have succeeded in producing a reaction\") but mostly - and as far as I can tell the Edinburgh reaction seems to mirror reports from Cannes - they feel, \"Why have programmers subjected us to such inferior quality film-making?\" Director Clay Hugh can talk the talk but has not developed artistic vision. His replies about holding up a mirror to life to tell the truth about things that are swept under the carpet, even his defence that there is little plot development because he didn\\'t want to do a standard Hollywood movie - all are good answers to criticisms, but unfortunately they do not apply to his film, any more than they do to holding up a mirror while someone defecates, or wastes film while playing ineptly with symbols. Wanting to try and give him the benefit of any lingering doubt, I spoke to him for a few minutes after the screening, but I found him as distasteful as his movie and soon moved to the bar to wash my mouth out with something more substantial. There are many truths. One aspect of art is to educate, another to entertain, another to inspire. I had asked him if he had any social or political agenda and he mentions Ken Loach (one of the many great names he takes in vain) without going so far as to admit any agenda himself. He then falls back on his mantra about his job being to tell the truth. I am left with the feeling that this was an overambitious project for a new director, or else a disingenuous attempt to put himself on the map by courting publicity for second rate work<br /><br />Andy Warhol could paint a tin of soup and it was art. Clay Hugh would like to emulate the great directors that have made controversial cinema and pushed boundaries. Sadly, his ability at the moment only extends to making high-sounding excuses for a publicity-seeking film.']\n",
            "\n",
            "labels:  [1 1 0]\n"
          ]
        }
      ]
    },
    {
      "cell_type": "markdown",
      "source": [
        "# Buat Teks Encoder"
      ],
      "metadata": {
        "id": "jBUA4_A8Gfm9"
      }
    },
    {
      "cell_type": "code",
      "source": [
        "VOCAB_SIZE = 1000\n",
        "encoder = tf.keras.layers.TextVectorization(\n",
        "    max_tokens=VOCAB_SIZE)\n",
        "encoder.adapt(train_dataset.map(lambda text, label: text))"
      ],
      "metadata": {
        "id": "N4uqgrt1GrcE"
      },
      "execution_count": null,
      "outputs": []
    },
    {
      "cell_type": "code",
      "source": [
        "vocab = np.array(encoder.get_vocabulary())\n",
        "vocab[:20]"
      ],
      "metadata": {
        "colab": {
          "base_uri": "https://localhost:8080/"
        },
        "id": "yvfo0CjbGt-s",
        "outputId": "1fb60dfc-f3f5-483c-8b3e-2c2e16f590c4"
      },
      "execution_count": null,
      "outputs": [
        {
          "output_type": "execute_result",
          "data": {
            "text/plain": [
              "array(['', '[UNK]', 'the', 'and', 'a', 'of', 'to', 'is', 'in', 'it', 'i',\n",
              "       'this', 'that', 'br', 'was', 'as', 'for', 'with', 'movie', 'but'],\n",
              "      dtype='<U14')"
            ]
          },
          "metadata": {},
          "execution_count": 13
        }
      ]
    },
    {
      "cell_type": "code",
      "source": [
        "encoded_example = encoder(example)[:3].numpy()\n",
        "encoded_example"
      ],
      "metadata": {
        "colab": {
          "base_uri": "https://localhost:8080/"
        },
        "id": "7WQJa7lYHKtG",
        "outputId": "33438884-6a36-47e2-a930-408ba3a7dc97"
      },
      "execution_count": null,
      "outputs": [
        {
          "output_type": "execute_result",
          "data": {
            "text/plain": [
              "array([[213,   4,  85, ...,   0,   0,   0],\n",
              "       [  2,   1, 323, ...,   0,   0,   0],\n",
              "       [ 10, 237, 203, ...,   4,   1,  20]])"
            ]
          },
          "metadata": {},
          "execution_count": 14
        }
      ]
    },
    {
      "cell_type": "code",
      "source": [
        "for n in range(3):\n",
        "  print(\"Original: \", example[n].numpy())\n",
        "  print(\"Round-trip: \", \" \".join(vocab[encoded_example[n]]))\n",
        "  print()"
      ],
      "metadata": {
        "colab": {
          "base_uri": "https://localhost:8080/"
        },
        "id": "lXUhLA0oHNwi",
        "outputId": "817ce5fc-9202-4298-b147-24f42e8383a3"
      },
      "execution_count": null,
      "outputs": [
        {
          "output_type": "stream",
          "name": "stdout",
          "text": [
            "Original:  b'There\\'s a great deal of material from the Modesty Blaise comics and novels that would be great in a movie. Unfortunately, several attempts have been made and they\\'ve fallen short of the great potential in the character. So, no, this isn\\'t the Modesty you know from the comic strip (currently reprinted in nice editions from Titan Books). This is Modesty some 5 or 6 years prior to the first strip, and from what you can piece together from her back-story, it\\'s accurate.<br /><br />Miramax had the movie rights to the character, with Quentin Tarantino acting as advocate and technical adviser. Early drafts of the Miramax project attempted to adapt one of the best novels, but always managed to leave out some crucial element. Tarantino wasn\\'t happy with any of them, and offered to remove his name from the project so they could proceed. To the studio\\'s credit, they wanted to keep him in the process, since they knew he \"got\" the character and her world. With the movie rights close to expiration, they decided to try a very different approach. The result was \"My Name is Modesty,\" a small direct-to-video movie that introduces the character.<br /><br />The movie does not introduce Willie Garvin or Sir Gerald. These characters are important to Blaise\\'s adventures throughout most of the published stories. What this movie accomplishes is showing the strength of the character by herself. She never loses her composure, and you never doubt that she\\'s in charge even unarmed in a room full of gangsters with guns. Most of the movie takes place within a casino, which undoubtedly saved money on the production. It doesn\\'t matter. The film does not come across as cheap. Instead, it gives a fairly comprehensive (and believable) back-story for the character and demonstrates just how far she thinks ahead. Should Miramax adapt any of the comic stories or novels now, they\\'ve laid out the character\\'s background nicely and won\\'t have to spend much time on her \"origin.\" I realize the words \"Direct-to-Video\" don\\'t inspire confidence, but this film is well worth a look.'\n",
            "Round-trip:  theres a great deal of material from the [UNK] [UNK] [UNK] and [UNK] that would be great in a movie unfortunately several attempts have been made and [UNK] [UNK] short of the great potential in the character so no this isnt the [UNK] you know from the comic [UNK] [UNK] [UNK] in nice [UNK] from [UNK] [UNK] this is [UNK] some 5 or [UNK] years [UNK] to the first [UNK] and from what you can piece together from her [UNK] its [UNK] br [UNK] had the movie [UNK] to the character with [UNK] [UNK] acting as [UNK] and [UNK] [UNK] early [UNK] of the [UNK] [UNK] [UNK] to [UNK] one of the best [UNK] but always [UNK] to leave out some [UNK] [UNK] [UNK] wasnt happy with any of them and [UNK] to [UNK] his name from the [UNK] so they could [UNK] to the [UNK] [UNK] they wanted to keep him in the [UNK] since they knew he got the character and her world with the movie [UNK] close to [UNK] they decided to try a very different [UNK] the result was my name is [UNK] a small [UNK] movie that [UNK] the [UNK] br the movie does not [UNK] [UNK] [UNK] or [UNK] [UNK] these characters are important to [UNK] [UNK] throughout most of the [UNK] stories what this movie [UNK] is showing the [UNK] of the character by herself she never [UNK] her [UNK] and you never doubt that shes in [UNK] even [UNK] in a room full of [UNK] with [UNK] most of the movie takes place within a [UNK] which [UNK] [UNK] money on the production it doesnt matter the film does not come across as cheap instead it gives a fairly [UNK] and believable [UNK] for the character and [UNK] just how far she [UNK] [UNK] should [UNK] [UNK] any of the comic stories or [UNK] now [UNK] [UNK] out the characters background [UNK] and wont have to [UNK] much time on her [UNK] i realize the words [UNK] dont [UNK] [UNK] but this film is well worth a look                                                                                                                                                                                                                                                                                                                                                                                                                                                                                                                                                                   \n",
            "\n",
            "Original:  b'The 100 black and white half-hour episodes of the early situation comedy \"Mr. Peepers\" were originally broadcast from 1952-55 on NBC. Like a lot of baby boomers this and \"Ding Dong School\" are my earliest memories of television. Since both ran later in syndication it is hard to tell how many of these memories are actually tied to the original broadcasts.<br /><br />\"Mr. Peepers\" is worth checking out for more than its nostalgia value. It represents a very different style of situation comedy than shows like \"The Honeymooners\" and \"I Love Lucy\". The genre could have gone in two different directions in those days and ended up taking the loud abrasive path of those two shows; which is probably why they still seem contemporary. <br /><br />\"Mr. Peepers\", which was differentiated by its intelligent restrained tone, may appear slow and dull in comparison. But it\\'s really more a matter of adjusting to the different style. Once you get into the characters it will win over most intelligent viewers. Credit should be give to the show\\'s producer, Fred Coe, a key figure in early television whose dramatic anthologies are also worth checking out (\"Philco Television Playhouse\", \"Lights Out\", \"Playhouse 90\", \"Producers Showcase\", \"Playwrights 56\", \"Fireside Theatre\", etc.) even on kinescope.<br /><br />\"Mr. Peepers\" offered a much more gentle style with Wally Cox (to be the voice of \"Underdog\" a few years later) in the title role, Robinson Peepers, a mild-mannered high school science teacher. His glasses were his trademark and a symbolic link to his name and role as a passive observer. <br /><br />The series provided Cox with an outstanding supporting cast. Tony Randall played his brash best friend, history teacher Harvey Weskit. Jack Warden played Frank Whip, the loud gym teacher whose mild bullying gave the show most of its conflict elements. <br /><br />There is some love interest competition involving the school\\'s nurse, Nancy Remington (Patricia Benoit), with viewers quickly aligning with Mr. Peepers who seems a much better match for the gentle Nancy. Their on-screen marriage near the end 1953-54 season captured national attention, an early version of the \"Who Shot J.R.?\" frenzy.<br /><br />Then again, what do I know? I\\'m only a child.'\n",
            "Round-trip:  the [UNK] black and white [UNK] episodes of the early situation comedy mr [UNK] were [UNK] [UNK] from [UNK] on [UNK] like a lot of baby [UNK] this and [UNK] [UNK] school are my [UNK] [UNK] of television since both [UNK] later in [UNK] it is hard to tell how many of these [UNK] are actually [UNK] to the original [UNK] br mr [UNK] is worth [UNK] out for more than its [UNK] [UNK] it [UNK] a very different style of situation comedy than shows like the [UNK] and i love [UNK] the genre could have gone in two different [UNK] in those days and [UNK] up taking the [UNK] [UNK] [UNK] of those two shows which is probably why they still seem [UNK] br br mr [UNK] which was [UNK] by its [UNK] [UNK] [UNK] may appear slow and dull in [UNK] but its really more a matter of [UNK] to the different style once you get into the characters it will [UNK] over most [UNK] viewers [UNK] should be give to the shows [UNK] [UNK] [UNK] a [UNK] figure in early television whose dramatic [UNK] are also worth [UNK] out [UNK] television [UNK] [UNK] out [UNK] [UNK] [UNK] [UNK] [UNK] [UNK] [UNK] [UNK] etc even on [UNK] br mr [UNK] [UNK] a much more [UNK] style with [UNK] [UNK] to be the voice of [UNK] a few years later in the title role [UNK] [UNK] a [UNK] high school [UNK] [UNK] his [UNK] were his [UNK] and a [UNK] [UNK] to his name and role as a [UNK] [UNK] br br the series [UNK] [UNK] with an [UNK] supporting cast [UNK] [UNK] played his [UNK] best friend history [UNK] [UNK] [UNK] jack [UNK] played [UNK] [UNK] the [UNK] [UNK] [UNK] whose [UNK] [UNK] gave the show most of its [UNK] elements br br there is some love interest [UNK] [UNK] the [UNK] [UNK] [UNK] [UNK] [UNK] [UNK] with viewers quickly [UNK] with mr [UNK] who seems a much better [UNK] for the [UNK] [UNK] their [UNK] [UNK] near the end [UNK] season [UNK] [UNK] attention an early version of the who shot [UNK] [UNK] br then again what do i know im only a child                                                                                                                                                                                                                                                                                                                                                                                                                                                                                                                                              \n",
            "\n",
            "Original:  b'I am always wary of taking too instant a dislike to a film. Look at it a month later and you might see it differently, or dig it up after 50 years in a different continent and some cult followers find something stylistically remarkable that went unnoticed at first. After sitting through The Great Ecstasy of Robert Carmichael at its UK premiere, it came as no surprise to me that I found the question and answer session afterwards more interesting than the film itself. Shane Danielsen (Artistic Director of the Edinburgh International Film Festival), aided by the film\\'s director and producer, gave a spirited defence of a movie than received an overall negative response from the audience. Edinburgh Festival audiences are not easily shocked. Only one person walked out in disgust. The criticisms of the film included very articulate and constructive ones from the lay public as well as an actor and a woman who teaches M.A. film directors. This was not an overly \\'shocking\\' film. There was a degree of uninterrupted sexual violence, but far less extreme than many movies (most actual weapon contact was obscured, as were aroused genitals). The audience disliked it because they had sat through two hours that were quite boring, where the acting standards were not high, where the plot was poor, predictable and drawn out, and where they had been subjected to clumsy and pretentious film-making on the promise of a controversial movie. Metaphors to the war in Iraq are contrived, over-emphasised and sloppy (apart from a general allusion to violence, any deeper meaning is unclear); and the \\'fig-leaf\\' reference Marquis de Sade, as one audience member put it, seems a mere tokenistic excuse for lack of plot development towards the finale.<br /><br />We have the story of an adolescent who has a certain amount going for him (he stands out at school for his musical ability) but takes drugs and hangs out with youths who have little or nothing going for them and whose criminal activities extend to rape and violence. When pushed, Robert seems to have a lot of violence locked inside him.<br /><br />The film is not entirely without merit. The audience is left to decide how Robert got that way: was it the influence of his peers? Why did all the good influences and concern from parents and teachers not manage to include him in a better approach to life? Cinematically, there is a carefully-montaged scene where he hangs back (whether through too much drugs, shyness, a latent sense of morality or just waiting his turn?). Several of his friends are raping a woman in a back room, partly glimpsed and framed in the centre of the screen. In the foreground of the bare bones flat, a DJ is more concerned that the girl\\'s screams interrupt his happy house music than with any thought for the woman. Ultimately he is a bit annoyed if their activities attract police attention. The stark juxtaposition of serious headphones enjoyment of his music even when he knows a rape is going on points up his utter disdain in a deeply unsettling way. Robert slumps with his back to us in the foreground.<br /><br />But the rest of the film, including its supposedly controversial climax involving considerable (if not overly realistic) sexual violence, is not up to this standard. Some people have had a strong reaction to it (the filmmakers\\' stated intention: \"If they vomit, we have succeeded in producing a reaction\") but mostly - and as far as I can tell the Edinburgh reaction seems to mirror reports from Cannes - they feel, \"Why have programmers subjected us to such inferior quality film-making?\" Director Clay Hugh can talk the talk but has not developed artistic vision. His replies about holding up a mirror to life to tell the truth about things that are swept under the carpet, even his defence that there is little plot development because he didn\\'t want to do a standard Hollywood movie - all are good answers to criticisms, but unfortunately they do not apply to his film, any more than they do to holding up a mirror while someone defecates, or wastes film while playing ineptly with symbols. Wanting to try and give him the benefit of any lingering doubt, I spoke to him for a few minutes after the screening, but I found him as distasteful as his movie and soon moved to the bar to wash my mouth out with something more substantial. There are many truths. One aspect of art is to educate, another to entertain, another to inspire. I had asked him if he had any social or political agenda and he mentions Ken Loach (one of the many great names he takes in vain) without going so far as to admit any agenda himself. He then falls back on his mantra about his job being to tell the truth. I am left with the feeling that this was an overambitious project for a new director, or else a disingenuous attempt to put himself on the map by courting publicity for second rate work<br /><br />Andy Warhol could paint a tin of soup and it was art. Clay Hugh would like to emulate the great directors that have made controversial cinema and pushed boundaries. Sadly, his ability at the moment only extends to making high-sounding excuses for a publicity-seeking film.'\n",
            "Round-trip:  i am always [UNK] of taking too [UNK] a [UNK] to a film look at it a [UNK] later and you might see it [UNK] or [UNK] it up after [UNK] years in a different [UNK] and some [UNK] [UNK] find something [UNK] [UNK] that went [UNK] at first after [UNK] through the great [UNK] of robert [UNK] at its [UNK] [UNK] it came as no surprise to me that i found the question and [UNK] [UNK] [UNK] more interesting than the film itself [UNK] [UNK] [UNK] director of the [UNK] [UNK] film [UNK] [UNK] by the films director and [UNK] gave a [UNK] [UNK] of a movie than [UNK] an overall [UNK] [UNK] from the audience [UNK] [UNK] [UNK] are not easily [UNK] only one person [UNK] out in [UNK] the [UNK] of the film [UNK] very [UNK] and [UNK] ones from the [UNK] [UNK] as well as an actor and a woman who [UNK] [UNK] film directors this was not an [UNK] [UNK] film there was a [UNK] of [UNK] sexual violence but far less [UNK] than many movies most actual [UNK] [UNK] was [UNK] as were [UNK] [UNK] the audience [UNK] it because they had [UNK] through two hours that were quite boring where the acting [UNK] were not high where the plot was poor predictable and [UNK] out and where they had been [UNK] to [UNK] and [UNK] [UNK] on the [UNK] of a [UNK] movie [UNK] to the war in [UNK] are [UNK] [UNK] and [UNK] apart from a general [UNK] to violence any [UNK] [UNK] is [UNK] and the [UNK] [UNK] [UNK] de [UNK] as one audience [UNK] put it seems a [UNK] [UNK] [UNK] for lack of plot development towards the [UNK] br we have the story of an [UNK] who has a certain [UNK] going for him he [UNK] out at school for his musical [UNK] but takes [UNK] and [UNK] out with [UNK] who have little or nothing going for them and whose [UNK] [UNK] [UNK] to [UNK] and violence when [UNK] robert seems to have a lot of violence [UNK] inside [UNK] br the film is not [UNK] without [UNK] the audience is left to [UNK] how robert got that way was it the [UNK] of his [UNK] why did all the good [UNK] and [UNK] from parents and [UNK] not [UNK] to [UNK] him in a better [UNK] to life [UNK] there is a [UNK] scene where he [UNK] back whether through too much [UNK] [UNK] a [UNK] sense of [UNK] or just [UNK] his turn several of his friends are [UNK] a woman in a back room [UNK] [UNK] and [UNK] in the [UNK] of the screen in the [UNK] of the [UNK] [UNK] [UNK] a [UNK] is more [UNK] that the girls [UNK] [UNK] his happy house music than with any thought for the woman [UNK] he is a bit [UNK] if their [UNK] [UNK] police attention the [UNK] [UNK] of serious [UNK] [UNK] of his music even when he knows a [UNK] is going on points up his [UNK] [UNK] in a [UNK] [UNK] way robert [UNK] with his back to us in the [UNK] br but the rest of the film including its [UNK] [UNK] [UNK] [UNK] [UNK] if not [UNK] realistic sexual violence is not up to this [UNK] some people have had a strong [UNK] to it the filmmakers [UNK] [UNK] if they [UNK] we have [UNK] in [UNK] a [UNK] but mostly and as far as i can tell the [UNK] [UNK] seems to [UNK] [UNK] from [UNK] they feel why have [UNK] [UNK] us to such [UNK] quality [UNK] director [UNK] [UNK] can talk the talk but has not [UNK] [UNK] [UNK] his [UNK] about [UNK] up a [UNK] to life to tell the truth about things that are [UNK] under the [UNK] even his [UNK] that there is little plot development because he didnt want to do a [UNK] hollywood movie all are good [UNK] to [UNK] but unfortunately they do not [UNK] to his film any more than they do to [UNK] up a [UNK] while someone [UNK] or [UNK] film while playing [UNK] with [UNK] [UNK] to try and give him the [UNK] of any [UNK] doubt i [UNK] to him for a few minutes after the [UNK] but i found him as [UNK] as his movie and soon [UNK] to the [UNK] to [UNK] my [UNK] out with something more [UNK] there are many [UNK] one [UNK] of art is to [UNK] another to [UNK] another to [UNK] i had [UNK] him if he had any [UNK] or political [UNK] and he [UNK] [UNK] [UNK] one of the many great [UNK] he takes in [UNK] without going so far as to admit any [UNK] himself he then falls back on his [UNK] about his job being to tell the truth i am left with the feeling that this was an [UNK] [UNK] for a new director or else a [UNK] attempt to put himself on the [UNK] by [UNK] [UNK] for second [UNK] [UNK] br [UNK] [UNK] could [UNK] a [UNK] of [UNK] and it was art [UNK] [UNK] would like to [UNK] the great directors that have made [UNK] cinema and [UNK] [UNK] [UNK] his [UNK] at the moment only [UNK] to making [UNK] [UNK] for a [UNK] film\n",
            "\n"
          ]
        }
      ]
    },
    {
      "cell_type": "markdown",
      "source": [
        "# Buat Model"
      ],
      "metadata": {
        "id": "A5r8f_RnHS3x"
      }
    },
    {
      "cell_type": "code",
      "source": [
        "model = tf.keras.Sequential([\n",
        "    encoder,\n",
        "    tf.keras.layers.Embedding(\n",
        "        input_dim=len(encoder.get_vocabulary()),\n",
        "        output_dim=64,\n",
        "        # Use masking to handle the variable sequence lengths\n",
        "        mask_zero=True),\n",
        "    tf.keras.layers.Bidirectional(tf.keras.layers.LSTM(64)),\n",
        "    tf.keras.layers.Dense(64, activation='relu'),\n",
        "    tf.keras.layers.Dense(1)\n",
        "])"
      ],
      "metadata": {
        "id": "p0F2_2aUHUUG"
      },
      "execution_count": null,
      "outputs": []
    },
    {
      "cell_type": "code",
      "source": [
        "print([layer.supports_masking for layer in model.layers])"
      ],
      "metadata": {
        "colab": {
          "base_uri": "https://localhost:8080/"
        },
        "id": "zeyPqeMyHYeW",
        "outputId": "e4c2b07a-3160-458c-9076-632367e7f148"
      },
      "execution_count": null,
      "outputs": [
        {
          "output_type": "stream",
          "name": "stdout",
          "text": [
            "[False, True, True, True, True]\n"
          ]
        }
      ]
    },
    {
      "cell_type": "code",
      "source": [
        "# predict on a sample text without padding.\n",
        "\n",
        "sample_text = ('The movie was cool. The animation and the graphics '\n",
        "               'were out of this world. I would recommend this movie.')\n",
        "predictions = model.predict(np.array([sample_text]))\n",
        "print(predictions[0])"
      ],
      "metadata": {
        "colab": {
          "base_uri": "https://localhost:8080/"
        },
        "id": "0KJaNFlyHYPn",
        "outputId": "1dbd2fee-6f7a-441b-f8d3-0780811e04a7"
      },
      "execution_count": null,
      "outputs": [
        {
          "output_type": "stream",
          "name": "stdout",
          "text": [
            "1/1 [==============================] - 8s 8s/step\n",
            "[0.00147162]\n"
          ]
        }
      ]
    },
    {
      "cell_type": "code",
      "source": [
        "# predict on a sample text with padding\n",
        "\n",
        "padding = \"the \" * 2000\n",
        "predictions = model.predict(np.array([sample_text, padding]))\n",
        "print(predictions[0])"
      ],
      "metadata": {
        "colab": {
          "base_uri": "https://localhost:8080/"
        },
        "id": "0sb8GXITHtI0",
        "outputId": "5a7d898f-e0e2-49bb-a551-dcff99fee770"
      },
      "execution_count": null,
      "outputs": [
        {
          "output_type": "stream",
          "name": "stdout",
          "text": [
            "1/1 [==============================] - 0s 67ms/step\n",
            "[0.00147162]\n"
          ]
        }
      ]
    },
    {
      "cell_type": "code",
      "source": [
        "model.compile(loss=tf.keras.losses.BinaryCrossentropy(from_logits=True),\n",
        "              optimizer=tf.keras.optimizers.Adam(1e-4),\n",
        "              metrics=['accuracy'])"
      ],
      "metadata": {
        "id": "EmhEJiJUH2PZ"
      },
      "execution_count": null,
      "outputs": []
    },
    {
      "cell_type": "markdown",
      "source": [
        "# Train Model"
      ],
      "metadata": {
        "id": "G0FdxGCfH5Zq"
      }
    },
    {
      "cell_type": "code",
      "source": [
        "history = model.fit(train_dataset, epochs=10,\n",
        "                    validation_data=test_dataset,\n",
        "                    validation_steps=30)"
      ],
      "metadata": {
        "colab": {
          "base_uri": "https://localhost:8080/"
        },
        "id": "TtUAsPI3H6Lb",
        "outputId": "9223cfbe-7296-4768-a390-55a7c544f1c5"
      },
      "execution_count": null,
      "outputs": [
        {
          "output_type": "stream",
          "name": "stdout",
          "text": [
            "Epoch 1/10\n",
            "391/391 [==============================] - 52s 104ms/step - loss: 0.6341 - accuracy: 0.5736 - val_loss: 0.4674 - val_accuracy: 0.7474\n",
            "Epoch 2/10\n",
            "391/391 [==============================] - 29s 73ms/step - loss: 0.4197 - accuracy: 0.8135 - val_loss: 0.4387 - val_accuracy: 0.7807\n",
            "Epoch 3/10\n",
            "391/391 [==============================] - 26s 66ms/step - loss: 0.3606 - accuracy: 0.8426 - val_loss: 0.3669 - val_accuracy: 0.8510\n",
            "Epoch 4/10\n",
            "391/391 [==============================] - 25s 64ms/step - loss: 0.3315 - accuracy: 0.8556 - val_loss: 0.3375 - val_accuracy: 0.8469\n",
            "Epoch 5/10\n",
            "391/391 [==============================] - 25s 63ms/step - loss: 0.3195 - accuracy: 0.8612 - val_loss: 0.3322 - val_accuracy: 0.8573\n",
            "Epoch 6/10\n",
            "391/391 [==============================] - 25s 64ms/step - loss: 0.3111 - accuracy: 0.8648 - val_loss: 0.3249 - val_accuracy: 0.8599\n",
            "Epoch 7/10\n",
            "391/391 [==============================] - 25s 63ms/step - loss: 0.3091 - accuracy: 0.8666 - val_loss: 0.3253 - val_accuracy: 0.8583\n",
            "Epoch 8/10\n",
            "391/391 [==============================] - 27s 69ms/step - loss: 0.3024 - accuracy: 0.8698 - val_loss: 0.3279 - val_accuracy: 0.8495\n",
            "Epoch 9/10\n",
            "391/391 [==============================] - 26s 64ms/step - loss: 0.2983 - accuracy: 0.8722 - val_loss: 0.3212 - val_accuracy: 0.8615\n",
            "Epoch 10/10\n",
            "391/391 [==============================] - 25s 64ms/step - loss: 0.2968 - accuracy: 0.8723 - val_loss: 0.3223 - val_accuracy: 0.8510\n"
          ]
        }
      ]
    },
    {
      "cell_type": "code",
      "source": [
        "test_loss, test_acc = model.evaluate(test_dataset)\n",
        "\n",
        "print('Test Loss:', test_loss)\n",
        "print('Test Accuracy:', test_acc)"
      ],
      "metadata": {
        "id": "OseUfcLwMq0F",
        "colab": {
          "base_uri": "https://localhost:8080/"
        },
        "outputId": "be0290dc-ed17-44af-8eb2-aa577ea8930f"
      },
      "execution_count": null,
      "outputs": [
        {
          "output_type": "stream",
          "name": "stdout",
          "text": [
            "391/391 [==============================] - 12s 31ms/step - loss: 0.3182 - accuracy: 0.8522\n",
            "Test Loss: 0.3181524872779846\n",
            "Test Accuracy: 0.8521599769592285\n"
          ]
        }
      ]
    },
    {
      "cell_type": "code",
      "source": [
        "plt.figure(figsize=(16, 6))\n",
        "plt.subplot(1, 2, 1)\n",
        "plot_graphs(history, 'accuracy')\n",
        "plt.subplot(1, 2, 2)\n",
        "plot_graphs(history, 'loss')"
      ],
      "metadata": {
        "id": "N-EvkWxgMyrN",
        "colab": {
          "base_uri": "https://localhost:8080/",
          "height": 546
        },
        "outputId": "d80b8219-f4fb-4183-dfea-4fe12d04c151"
      },
      "execution_count": null,
      "outputs": [
        {
          "output_type": "display_data",
          "data": {
            "text/plain": [
              "<Figure size 1600x600 with 2 Axes>"
            ],
            "image/png": "[encoded data removed]"
          },
          "metadata": {}
        }
      ]
    },
    {
      "cell_type": "code",
      "source": [
        "# predict on a sample text without padding.\n",
        "\n",
        "sample_text = ('The movie was not good. The animation and the graphics '\n",
        "               'were terrible. I would not recommend this movie.')\n",
        "predictions = model.predict(np.array([sample_text]))\n",
        "print(predictions)"
      ],
      "metadata": {
        "id": "vfTwO5wbMs7Q",
        "colab": {
          "base_uri": "https://localhost:8080/"
        },
        "outputId": "d0f044f0-fffd-4f7d-85c7-254e36207df2"
      },
      "execution_count": null,
      "outputs": [
        {
          "output_type": "stream",
          "name": "stdout",
          "text": [
            "1/1 [==============================] - 2s 2s/step\n",
            "[[-1.6831821]]\n"
          ]
        }
      ]
    },
    {
      "cell_type": "markdown",
      "source": [
        "# Stack two or more LSTM layers"
      ],
      "metadata": {
        "id": "8ZVaV1axfgV-"
      }
    },
    {
      "cell_type": "code",
      "source": [
        "model = tf.keras.Sequential([\n",
        "    encoder,\n",
        "    tf.keras.layers.Embedding(len(encoder.get_vocabulary()), 64, mask_zero=True),\n",
        "    tf.keras.layers.Bidirectional(tf.keras.layers.LSTM(64, return_sequences=True)),\n",
        "    tf.keras.layers.Bidirectional(tf.keras.layers.LSTM(32)),\n",
        "    tf.keras.layers.Dense(64, activation='relu'),\n",
        "    tf.keras.layers.Dropout(0.5),\n",
        "    tf.keras.layers.Dense(1)\n",
        "])"
      ],
      "metadata": {
        "id": "q9_u4iI6fh6Y"
      },
      "execution_count": null,
      "outputs": []
    },
    {
      "cell_type": "code",
      "source": [
        "model.compile(loss=tf.keras.losses.BinaryCrossentropy(from_logits=True),\n",
        "              optimizer=tf.keras.optimizers.Adam(1e-4),\n",
        "              metrics=['accuracy'])"
      ],
      "metadata": {
        "id": "YSHULVYmfrAb"
      },
      "execution_count": null,
      "outputs": []
    },
    {
      "cell_type": "code",
      "source": [
        "history = model.fit(train_dataset, epochs=10,\n",
        "                    validation_data=test_dataset,\n",
        "                    validation_steps=30)"
      ],
      "metadata": {
        "id": "Huo6_1Infvaf",
        "colab": {
          "base_uri": "https://localhost:8080/"
        },
        "outputId": "b5d9dbfa-d103-47b7-e6e9-d882e69c027d"
      },
      "execution_count": null,
      "outputs": [
        {
          "output_type": "stream",
          "name": "stdout",
          "text": [
            "Epoch 1/10\n",
            "391/391 [==============================] - 78s 154ms/step - loss: 0.6298 - accuracy: 0.5797 - val_loss: 0.4135 - val_accuracy: 0.8062\n",
            "Epoch 2/10\n",
            "391/391 [==============================] - 47s 119ms/step - loss: 0.3791 - accuracy: 0.8312 - val_loss: 0.3451 - val_accuracy: 0.8432\n",
            "Epoch 3/10\n",
            "391/391 [==============================] - 47s 120ms/step - loss: 0.3339 - accuracy: 0.8565 - val_loss: 0.3292 - val_accuracy: 0.8479\n",
            "Epoch 4/10\n",
            "391/391 [==============================] - 45s 115ms/step - loss: 0.3185 - accuracy: 0.8626 - val_loss: 0.3322 - val_accuracy: 0.8370\n",
            "Epoch 5/10\n",
            "391/391 [==============================] - 47s 118ms/step - loss: 0.3120 - accuracy: 0.8653 - val_loss: 0.3228 - val_accuracy: 0.8542\n",
            "Epoch 6/10\n",
            "391/391 [==============================] - 46s 118ms/step - loss: 0.3071 - accuracy: 0.8680 - val_loss: 0.3199 - val_accuracy: 0.8542\n",
            "Epoch 7/10\n",
            "391/391 [==============================] - 46s 117ms/step - loss: 0.3041 - accuracy: 0.8693 - val_loss: 0.3262 - val_accuracy: 0.8490\n",
            "Epoch 8/10\n",
            "391/391 [==============================] - 46s 118ms/step - loss: 0.3001 - accuracy: 0.8711 - val_loss: 0.3284 - val_accuracy: 0.8490\n",
            "Epoch 9/10\n",
            "391/391 [==============================] - 47s 121ms/step - loss: 0.2989 - accuracy: 0.8703 - val_loss: 0.3234 - val_accuracy: 0.8422\n",
            "Epoch 10/10\n",
            "391/391 [==============================] - 48s 122ms/step - loss: 0.2974 - accuracy: 0.8722 - val_loss: 0.3238 - val_accuracy: 0.8609\n"
          ]
        }
      ]
    },
    {
      "cell_type": "code",
      "source": [
        "test_loss, test_acc = model.evaluate(test_dataset)\n",
        "\n",
        "print('Test Loss:', test_loss)\n",
        "print('Test Accuracy:', test_acc)"
      ],
      "metadata": {
        "id": "gMsJRkdcf0XT",
        "colab": {
          "base_uri": "https://localhost:8080/"
        },
        "outputId": "0f897d1f-36c0-4384-b24e-aef70b649528"
      },
      "execution_count": null,
      "outputs": [
        {
          "output_type": "stream",
          "name": "stdout",
          "text": [
            "391/391 [==============================] - 20s 51ms/step - loss: 0.3214 - accuracy: 0.8614\n",
            "Test Loss: 0.3213718831539154\n",
            "Test Accuracy: 0.8614000082015991\n"
          ]
        }
      ]
    },
    {
      "cell_type": "code",
      "source": [
        "# predict on a sample text without padding.\n",
        "\n",
        "sample_text = ('The movie was not good. The animation and the graphics '\n",
        "               'were terrible. I would not recommend this movie.')\n",
        "predictions = model.predict(np.array([sample_text]))\n",
        "print(predictions)"
      ],
      "metadata": {
        "id": "AIIl1S26f1bJ",
        "colab": {
          "base_uri": "https://localhost:8080/"
        },
        "outputId": "c8763f48-6f72-4105-9a3d-0243894557f5"
      },
      "execution_count": null,
      "outputs": [
        {
          "output_type": "stream",
          "name": "stdout",
          "text": [
            "1/1 [==============================] - 6s 6s/step\n",
            "[[-1.7513466]]\n"
          ]
        }
      ]
    },
    {
      "cell_type": "code",
      "source": [
        "plt.figure(figsize=(16, 6))\n",
        "plt.subplot(1, 2, 1)\n",
        "plot_graphs(history, 'accuracy')\n",
        "plt.subplot(1, 2, 2)\n",
        "plot_graphs(history, 'loss')"
      ],
      "metadata": {
        "id": "DGT5TfbBf_o2",
        "colab": {
          "base_uri": "https://localhost:8080/",
          "height": 542
        },
        "outputId": "1bd9a2e7-0edc-4df9-8b5b-79941f79243c"
      },
      "execution_count": null,
      "outputs": [
        {
          "output_type": "display_data",
          "data": {
            "text/plain": [
              "<Figure size 1600x600 with 2 Axes>"
            ],
            "image/png": "[encoded data removed]"
          },
          "metadata": {}
        }
      ]
    },
    {
      "cell_type": "markdown",
      "source": [
        "# **Praktikum 2 - Generator Teks dengan RNN**"
      ],
      "metadata": {
        "id": "PqyHgstFM11K"
      }
    },
    {
      "cell_type": "markdown",
      "source": [
        "# Setup"
      ],
      "metadata": {
        "id": "82631xtYM_mL"
      }
    },
    {
      "cell_type": "markdown",
      "source": [
        "**Import TensorFlow**"
      ],
      "metadata": {
        "id": "fpAJboDCNBkB"
      }
    },
    {
      "cell_type": "code",
      "source": [
        "import tensorflow as tf\n",
        "import numpy as np\n",
        "import os\n",
        "import time"
      ],
      "metadata": {
        "id": "HtuxiyRAM8MG"
      },
      "execution_count": null,
      "outputs": []
    },
    {
      "cell_type": "markdown",
      "source": [
        "**Download Dataset Shakespeare**"
      ],
      "metadata": {
        "id": "3qenRpm0NITU"
      }
    },
    {
      "cell_type": "code",
      "source": [
        "path_to_file = tf.keras.utils.get_file('shakespeare.txt', 'https://storage.googleapis.com/download.tensorflow.org/data/shakespeare.txt')"
      ],
      "metadata": {
        "id": "GpmD0ahmNJ2M",
        "colab": {
          "base_uri": "https://localhost:8080/"
        },
        "outputId": "16f6067b-1496-46c8-e964-164fa981fb7e"
      },
      "execution_count": null,
      "outputs": [
        {
          "output_type": "stream",
          "name": "stdout",
          "text": [
            "Downloading data from https://storage.googleapis.com/download.tensorflow.org/data/shakespeare.txt\n",
            "1115394/1115394 [==============================] - 0s 0us/step\n"
          ]
        }
      ]
    },
    {
      "cell_type": "markdown",
      "source": [
        "**Load Data**"
      ],
      "metadata": {
        "id": "c3dq6U1DNN57"
      }
    },
    {
      "cell_type": "code",
      "source": [
        "# Read, then decode for py2 compat.\n",
        "text = open(path_to_file, 'rb').read().decode(encoding='utf-8')\n",
        "# length of text is the number of characters in it\n",
        "print(f'Length of text: {len(text)} characters')"
      ],
      "metadata": {
        "id": "H3cMOZw1NPu7",
        "colab": {
          "base_uri": "https://localhost:8080/"
        },
        "outputId": "35ed82f9-a3cf-4d1b-8ddf-2a619e15b04c"
      },
      "execution_count": null,
      "outputs": [
        {
          "output_type": "stream",
          "name": "stdout",
          "text": [
            "Length of text: 1115394 characters\n"
          ]
        }
      ]
    },
    {
      "cell_type": "code",
      "source": [
        "# Take a look at the first 250 characters in text\n",
        "print(text[:250])"
      ],
      "metadata": {
        "id": "AfT8oY-bNRXL",
        "colab": {
          "base_uri": "https://localhost:8080/"
        },
        "outputId": "87c11a34-6272-4c95-b280-e2f62a238ad6"
      },
      "execution_count": null,
      "outputs": [
        {
          "output_type": "stream",
          "name": "stdout",
          "text": [
            "First Citizen:\n",
            "Before we proceed any further, hear me speak.\n",
            "\n",
            "All:\n",
            "Speak, speak.\n",
            "\n",
            "First Citizen:\n",
            "You are all resolved rather to die than to famish?\n",
            "\n",
            "All:\n",
            "Resolved. resolved.\n",
            "\n",
            "First Citizen:\n",
            "First, you know Caius Marcius is chief enemy to the people.\n",
            "\n"
          ]
        }
      ]
    },
    {
      "cell_type": "code",
      "source": [
        "# The unique characters in the file\n",
        "vocab = sorted(set(text))\n",
        "print(f'{len(vocab)} unique characters')"
      ],
      "metadata": {
        "id": "iISSaDMVNTG0",
        "colab": {
          "base_uri": "https://localhost:8080/"
        },
        "outputId": "fa6e72f2-029b-4df4-b085-57e7a8fa8825"
      },
      "execution_count": null,
      "outputs": [
        {
          "output_type": "stream",
          "name": "stdout",
          "text": [
            "65 unique characters\n"
          ]
        }
      ]
    },
    {
      "cell_type": "markdown",
      "source": [
        "# Olah Teks"
      ],
      "metadata": {
        "id": "qulu79v2NVQ4"
      }
    },
    {
      "cell_type": "markdown",
      "source": [
        "**Vectorize Teks**"
      ],
      "metadata": {
        "id": "UIy7TE99NWy2"
      }
    },
    {
      "cell_type": "code",
      "source": [
        "example_texts = ['abcdefg', 'xyz']\n",
        "chars = tf.strings.unicode_split(example_texts, input_encoding='UTF-8')\n",
        "chars"
      ],
      "metadata": {
        "id": "KH60xL6kNYcw",
        "colab": {
          "base_uri": "https://localhost:8080/"
        },
        "outputId": "85e136c4-346e-41f3-9ed3-5d736c5391bd"
      },
      "execution_count": null,
      "outputs": [
        {
          "output_type": "execute_result",
          "data": {
            "text/plain": [
              "<tf.RaggedTensor [[b'a', b'b', b'c', b'd', b'e', b'f', b'g'], [b'x', b'y', b'z']]>"
            ]
          },
          "metadata": {},
          "execution_count": 37
        }
      ]
    },
    {
      "cell_type": "code",
      "source": [
        "ids_from_chars = tf.keras.layers.StringLookup(\n",
        "    vocabulary=list(vocab), mask_token=None)"
      ],
      "metadata": {
        "id": "8C4_U9CiNdZy"
      },
      "execution_count": null,
      "outputs": []
    },
    {
      "cell_type": "code",
      "source": [
        "ids = ids_from_chars(chars)\n",
        "ids"
      ],
      "metadata": {
        "id": "awdIbk3zNigU",
        "colab": {
          "base_uri": "https://localhost:8080/"
        },
        "outputId": "0398fb5a-8799-4e2b-92d1-1d1b77ca92a1"
      },
      "execution_count": null,
      "outputs": [
        {
          "output_type": "execute_result",
          "data": {
            "text/plain": [
              "<tf.RaggedTensor [[40, 41, 42, 43, 44, 45, 46], [63, 64, 65]]>"
            ]
          },
          "metadata": {},
          "execution_count": 39
        }
      ]
    },
    {
      "cell_type": "code",
      "source": [
        "chars_from_ids = tf.keras.layers.StringLookup(\n",
        "    vocabulary=ids_from_chars.get_vocabulary(), invert=True, mask_token=None)"
      ],
      "metadata": {
        "id": "4px-JosKNnoo"
      },
      "execution_count": null,
      "outputs": []
    },
    {
      "cell_type": "code",
      "source": [
        "chars = chars_from_ids(ids)\n",
        "chars"
      ],
      "metadata": {
        "id": "sWl52qM2Nq_R",
        "colab": {
          "base_uri": "https://localhost:8080/"
        },
        "outputId": "f578e85f-d996-4c00-d03b-db281ce2c9fa"
      },
      "execution_count": null,
      "outputs": [
        {
          "output_type": "execute_result",
          "data": {
            "text/plain": [
              "<tf.RaggedTensor [[b'a', b'b', b'c', b'd', b'e', b'f', b'g'], [b'x', b'y', b'z']]>"
            ]
          },
          "metadata": {},
          "execution_count": 41
        }
      ]
    },
    {
      "cell_type": "code",
      "source": [
        "tf.strings.reduce_join(chars, axis=-1).numpy()"
      ],
      "metadata": {
        "id": "0YZBRmxjOF5r",
        "colab": {
          "base_uri": "https://localhost:8080/"
        },
        "outputId": "4a34e828-873d-4411-d0cf-15bb071d247f"
      },
      "execution_count": null,
      "outputs": [
        {
          "output_type": "execute_result",
          "data": {
            "text/plain": [
              "array([b'abcdefg', b'xyz'], dtype=object)"
            ]
          },
          "metadata": {},
          "execution_count": 43
        }
      ]
    },
    {
      "cell_type": "code",
      "source": [
        "def text_from_ids(ids):\n",
        "  return tf.strings.reduce_join(chars_from_ids(ids), axis=-1)"
      ],
      "metadata": {
        "id": "kb8skWf1OHW1"
      },
      "execution_count": null,
      "outputs": []
    },
    {
      "cell_type": "markdown",
      "source": [
        "**Prediksi**"
      ],
      "metadata": {
        "id": "_CxGdbJhONdP"
      }
    },
    {
      "cell_type": "markdown",
      "source": [
        "**Membuat Trianing Set dan Target**"
      ],
      "metadata": {
        "id": "WCcDsYRsOYZN"
      }
    },
    {
      "cell_type": "code",
      "source": [
        "all_ids = ids_from_chars(tf.strings.unicode_split(text, 'UTF-8'))\n",
        "all_ids"
      ],
      "metadata": {
        "id": "Nsn4U-zaOOM0",
        "colab": {
          "base_uri": "https://localhost:8080/"
        },
        "outputId": "7e5e085b-0e59-4ead-dfd1-dd6fecd1ae10"
      },
      "execution_count": null,
      "outputs": [
        {
          "output_type": "execute_result",
          "data": {
            "text/plain": [
              "<tf.Tensor: shape=(1115394,), dtype=int64, numpy=array([19, 48, 57, ..., 46,  9,  1])>"
            ]
          },
          "metadata": {},
          "execution_count": 45
        }
      ]
    },
    {
      "cell_type": "code",
      "source": [
        "ids_dataset = tf.data.Dataset.from_tensor_slices(all_ids)"
      ],
      "metadata": {
        "id": "ugEFnqpSO2MO"
      },
      "execution_count": null,
      "outputs": []
    },
    {
      "cell_type": "code",
      "source": [
        "for ids in ids_dataset.take(10):\n",
        "    print(chars_from_ids(ids).numpy().decode('utf-8'))"
      ],
      "metadata": {
        "id": "zyqN_HF0O3_o",
        "colab": {
          "base_uri": "https://localhost:8080/"
        },
        "outputId": "76ac72f0-11b4-4b18-91ab-e16a301fe275"
      },
      "execution_count": null,
      "outputs": [
        {
          "output_type": "stream",
          "name": "stdout",
          "text": [
            "F\n",
            "i\n",
            "r\n",
            "s\n",
            "t\n",
            " \n",
            "C\n",
            "i\n",
            "t\n",
            "i\n"
          ]
        }
      ]
    },
    {
      "cell_type": "code",
      "source": [
        "seq_length = 100"
      ],
      "metadata": {
        "id": "Fw-0QVLcO7SZ"
      },
      "execution_count": null,
      "outputs": []
    },
    {
      "cell_type": "code",
      "source": [
        "sequences = ids_dataset.batch(seq_length+1, drop_remainder=True)\n",
        "\n",
        "for seq in sequences.take(1):\n",
        "  print(chars_from_ids(seq))"
      ],
      "metadata": {
        "id": "LND6RvNfdsBY",
        "colab": {
          "base_uri": "https://localhost:8080/"
        },
        "outputId": "0ceabe92-f1f8-4e7a-bf5e-d5ed77eb98a7"
      },
      "execution_count": null,
      "outputs": [
        {
          "output_type": "stream",
          "name": "stdout",
          "text": [
            "tf.Tensor(\n",
            "[b'F' b'i' b'r' b's' b't' b' ' b'C' b'i' b't' b'i' b'z' b'e' b'n' b':'\n",
            " b'\\n' b'B' b'e' b'f' b'o' b'r' b'e' b' ' b'w' b'e' b' ' b'p' b'r' b'o'\n",
            " b'c' b'e' b'e' b'd' b' ' b'a' b'n' b'y' b' ' b'f' b'u' b'r' b't' b'h'\n",
            " b'e' b'r' b',' b' ' b'h' b'e' b'a' b'r' b' ' b'm' b'e' b' ' b's' b'p'\n",
            " b'e' b'a' b'k' b'.' b'\\n' b'\\n' b'A' b'l' b'l' b':' b'\\n' b'S' b'p' b'e'\n",
            " b'a' b'k' b',' b' ' b's' b'p' b'e' b'a' b'k' b'.' b'\\n' b'\\n' b'F' b'i'\n",
            " b'r' b's' b't' b' ' b'C' b'i' b't' b'i' b'z' b'e' b'n' b':' b'\\n' b'Y'\n",
            " b'o' b'u' b' '], shape=(101,), dtype=string)\n"
          ]
        }
      ]
    },
    {
      "cell_type": "code",
      "source": [
        "for seq in sequences.take(5):\n",
        "    print(text_from_ids(seq).numpy())"
      ],
      "metadata": {
        "id": "qdl4z2W9ds64",
        "colab": {
          "base_uri": "https://localhost:8080/"
        },
        "outputId": "d7676363-6765-4bec-b546-dd9b0b6be0ea"
      },
      "execution_count": null,
      "outputs": [
        {
          "output_type": "stream",
          "name": "stdout",
          "text": [
            "b'First Citizen:\\nBefore we proceed any further, hear me speak.\\n\\nAll:\\nSpeak, speak.\\n\\nFirst Citizen:\\nYou '\n",
            "b'are all resolved rather to die than to famish?\\n\\nAll:\\nResolved. resolved.\\n\\nFirst Citizen:\\nFirst, you k'\n",
            "b\"now Caius Marcius is chief enemy to the people.\\n\\nAll:\\nWe know't, we know't.\\n\\nFirst Citizen:\\nLet us ki\"\n",
            "b\"ll him, and we'll have corn at our own price.\\nIs't a verdict?\\n\\nAll:\\nNo more talking on't; let it be d\"\n",
            "b'one: away, away!\\n\\nSecond Citizen:\\nOne word, good citizens.\\n\\nFirst Citizen:\\nWe are accounted poor citi'\n"
          ]
        }
      ]
    },
    {
      "cell_type": "code",
      "source": [
        "def split_input_target(sequence):\n",
        "    input_text = sequence[:-1]\n",
        "    target_text = sequence[1:]\n",
        "    return input_text, target_text"
      ],
      "metadata": {
        "id": "l5NFQMSAdwxl"
      },
      "execution_count": null,
      "outputs": []
    },
    {
      "cell_type": "code",
      "source": [
        "split_input_target(list(\"Tensorflow\"))"
      ],
      "metadata": {
        "id": "cW-cwo7ed5vn",
        "colab": {
          "base_uri": "https://localhost:8080/"
        },
        "outputId": "52334d31-68d6-4b12-ee79-053df73a3a01"
      },
      "execution_count": null,
      "outputs": [
        {
          "output_type": "execute_result",
          "data": {
            "text/plain": [
              "(['T', 'e', 'n', 's', 'o', 'r', 'f', 'l', 'o'],\n",
              " ['e', 'n', 's', 'o', 'r', 'f', 'l', 'o', 'w'])"
            ]
          },
          "metadata": {},
          "execution_count": 52
        }
      ]
    },
    {
      "cell_type": "code",
      "source": [
        "dataset = sequences.map(split_input_target)"
      ],
      "metadata": {
        "id": "DPtICz1Cd7sA"
      },
      "execution_count": null,
      "outputs": []
    },
    {
      "cell_type": "code",
      "source": [
        "for input_example, target_example in dataset.take(1):\n",
        "    print(\"Input :\", text_from_ids(input_example).numpy())\n",
        "    print(\"Target:\", text_from_ids(target_example).numpy())"
      ],
      "metadata": {
        "id": "r7YMI_rzd-MU",
        "colab": {
          "base_uri": "https://localhost:8080/"
        },
        "outputId": "85da2bb7-b745-4b58-80a8-cb508b45d71d"
      },
      "execution_count": null,
      "outputs": [
        {
          "output_type": "stream",
          "name": "stdout",
          "text": [
            "Input : b'First Citizen:\\nBefore we proceed any further, hear me speak.\\n\\nAll:\\nSpeak, speak.\\n\\nFirst Citizen:\\nYou'\n",
            "Target: b'irst Citizen:\\nBefore we proceed any further, hear me speak.\\n\\nAll:\\nSpeak, speak.\\n\\nFirst Citizen:\\nYou '\n"
          ]
        }
      ]
    },
    {
      "cell_type": "markdown",
      "source": [
        "**Membuat Batch Training**"
      ],
      "metadata": {
        "id": "dn_w68hbeHNE"
      }
    },
    {
      "cell_type": "code",
      "source": [
        "# Batch size\n",
        "BATCH_SIZE = 64\n",
        "\n",
        "# Buffer size to shuffle the dataset\n",
        "# (TF data is designed to work with possibly infinite sequences,\n",
        "# so it doesn't attempt to shuffle the entire sequence in memory. Instead,\n",
        "# it maintains a buffer in which it shuffles elements).\n",
        "BUFFER_SIZE = 10000\n",
        "\n",
        "dataset = (\n",
        "    dataset\n",
        "    .shuffle(BUFFER_SIZE)\n",
        "    .batch(BATCH_SIZE, drop_remainder=True)\n",
        "    .prefetch(tf.data.experimental.AUTOTUNE))\n",
        "\n",
        "dataset"
      ],
      "metadata": {
        "id": "KyUnJXJpeEpb",
        "colab": {
          "base_uri": "https://localhost:8080/"
        },
        "outputId": "bdbef4c5-5b47-45d2-cc06-db3fdb54c182"
      },
      "execution_count": null,
      "outputs": [
        {
          "output_type": "execute_result",
          "data": {
            "text/plain": [
              "<_PrefetchDataset element_spec=(TensorSpec(shape=(64, 100), dtype=tf.int64, name=None), TensorSpec(shape=(64, 100), dtype=tf.int64, name=None))>"
            ]
          },
          "metadata": {},
          "execution_count": 55
        }
      ]
    },
    {
      "cell_type": "markdown",
      "source": [
        "# Buat Model"
      ],
      "metadata": {
        "id": "y0U_aCkReKkt"
      }
    },
    {
      "cell_type": "code",
      "source": [
        "# Length of the vocabulary in StringLookup Layer\n",
        "vocab_size = len(ids_from_chars.get_vocabulary())\n",
        "\n",
        "# The embedding dimension\n",
        "embedding_dim = 256\n",
        "\n",
        "# Number of RNN units\n",
        "rnn_units = 1024"
      ],
      "metadata": {
        "id": "OvKo5wC0aZ1o"
      },
      "execution_count": null,
      "outputs": []
    },
    {
      "cell_type": "code",
      "source": [
        "class MyModel(tf.keras.Model):\n",
        "  def __init__(self, vocab_size, embedding_dim, rnn_units):\n",
        "    super().__init__(self)\n",
        "    self.embedding = tf.keras.layers.Embedding(vocab_size, embedding_dim)\n",
        "    self.gru = tf.keras.layers.GRU(rnn_units,\n",
        "                                   return_sequences=True,\n",
        "                                   return_state=True)\n",
        "    self.dense = tf.keras.layers.Dense(vocab_size)\n",
        "\n",
        "  def call(self, inputs, states=None, return_state=False, training=False):\n",
        "    x = inputs\n",
        "    x = self.embedding(x, training=training)\n",
        "    if states is None:\n",
        "      states = self.gru.get_initial_state(x)\n",
        "    x, states = self.gru(x, initial_state=states, training=training)\n",
        "    x = self.dense(x, training=training)\n",
        "\n",
        "    if return_state:\n",
        "      return x, states\n",
        "    else:\n",
        "      return x"
      ],
      "metadata": {
        "id": "7LSsDuQBafku"
      },
      "execution_count": null,
      "outputs": []
    },
    {
      "cell_type": "code",
      "source": [
        "model = MyModel(\n",
        "    vocab_size=vocab_size,\n",
        "    embedding_dim=embedding_dim,\n",
        "    rnn_units=rnn_units)"
      ],
      "metadata": {
        "id": "mL5mhzaPahkh"
      },
      "execution_count": null,
      "outputs": []
    },
    {
      "cell_type": "markdown",
      "source": [
        "# Uji Model"
      ],
      "metadata": {
        "id": "NBlULFBGalAs"
      }
    },
    {
      "cell_type": "code",
      "source": [
        "for input_example_batch, target_example_batch in dataset.take(1):\n",
        "    example_batch_predictions = model(input_example_batch)\n",
        "    print(example_batch_predictions.shape, \"# (batch_size, sequence_length, vocab_size)\")"
      ],
      "metadata": {
        "colab": {
          "base_uri": "https://localhost:8080/"
        },
        "id": "kz5MpxrdajEu",
        "outputId": "1f0f80bc-c6ad-44f7-c537-ef709ca044cc"
      },
      "execution_count": null,
      "outputs": [
        {
          "output_type": "stream",
          "name": "stdout",
          "text": [
            "(64, 100, 66) # (batch_size, sequence_length, vocab_size)\n"
          ]
        }
      ]
    },
    {
      "cell_type": "code",
      "source": [
        "model.summary()"
      ],
      "metadata": {
        "colab": {
          "base_uri": "https://localhost:8080/"
        },
        "id": "gftNxLiEanyr",
        "outputId": "10b39257-b2e5-4762-a701-a339fb8dc57e"
      },
      "execution_count": null,
      "outputs": [
        {
          "output_type": "stream",
          "name": "stdout",
          "text": [
            "Model: \"my_model\"\n",
            "_________________________________________________________________\n",
            " Layer (type)                Output Shape              Param #   \n",
            "=================================================================\n",
            " embedding_2 (Embedding)     multiple                  16896     \n",
            "                                                                 \n",
            " gru (GRU)                   multiple                  3938304   \n",
            "                                                                 \n",
            " dense_4 (Dense)             multiple                  67650     \n",
            "                                                                 \n",
            "=================================================================\n",
            "Total params: 4022850 (15.35 MB)\n",
            "Trainable params: 4022850 (15.35 MB)\n",
            "Non-trainable params: 0 (0.00 Byte)\n",
            "_________________________________________________________________\n"
          ]
        }
      ]
    },
    {
      "cell_type": "code",
      "source": [
        "sampled_indices = tf.random.categorical(example_batch_predictions[0], num_samples=1)\n",
        "sampled_indices = tf.squeeze(sampled_indices, axis=-1).numpy()"
      ],
      "metadata": {
        "id": "AHa4lpy5apb0"
      },
      "execution_count": null,
      "outputs": []
    },
    {
      "cell_type": "code",
      "source": [
        "sampled_indices"
      ],
      "metadata": {
        "colab": {
          "base_uri": "https://localhost:8080/"
        },
        "id": "XYKy06dGauZH",
        "outputId": "4dbaeb14-f1da-46fc-a18a-f1b1ecc89967"
      },
      "execution_count": null,
      "outputs": [
        {
          "output_type": "execute_result",
          "data": {
            "text/plain": [
              "array([39, 62, 43,  0, 34, 18,  7, 40, 35, 62, 40, 57, 16, 51, 14, 18, 59,\n",
              "       65, 65, 52, 50, 65, 47, 13, 25, 14, 51, 61, 38, 61, 23, 17, 32, 10,\n",
              "       15,  5, 17, 64, 58, 47, 32, 10, 11, 16, 21, 28, 50, 14,  3, 62, 61,\n",
              "        0, 10, 58, 21, 43,  2, 36, 42, 34, 19, 22, 10, 28, 34,  4, 12, 45,\n",
              "       25, 10, 49, 19, 54, 13, 26, 17, 31, 33, 60, 30, 15, 52,  7,  5,  3,\n",
              "       65, 56, 28, 12,  8, 53,  1,  2, 47,  9, 44, 65, 44, 13,  2])"
            ]
          },
          "metadata": {},
          "execution_count": 62
        }
      ]
    },
    {
      "cell_type": "code",
      "source": [
        "print(\"Input:\\n\", text_from_ids(input_example_batch[0]).numpy())\n",
        "print()\n",
        "print(\"Next Char Predictions:\\n\", text_from_ids(sampled_indices).numpy())"
      ],
      "metadata": {
        "colab": {
          "base_uri": "https://localhost:8080/"
        },
        "id": "M9NNIYOvaw54",
        "outputId": "a9190028-b555-403b-db7a-4eb0ccabd512"
      },
      "execution_count": null,
      "outputs": [
        {
          "output_type": "stream",
          "name": "stdout",
          "text": [
            "Input:\n",
            " b\" who twin, as 'twere, in love\\nUnseparable, shall within this hour,\\nOn a dissension of a doit, break \"\n",
            "\n",
            "Next Char Predictions:\n",
            " b'Zwd[UNK]UE,aVwarClAEtzzmkzh?LAlvYvJDS3B&DyshS3:CHOkA!wv[UNK]3sHd WcUFI3OU$;fL3jFo?MDRTuQBm,&!zqO;-n\\n h.eze? '\n"
          ]
        }
      ]
    },
    {
      "cell_type": "markdown",
      "source": [
        "#Train Model"
      ],
      "metadata": {
        "id": "mn8OtFpja2-U"
      }
    },
    {
      "cell_type": "markdown",
      "source": [
        "**Tambahan optimizer dan fungsi loss**"
      ],
      "metadata": {
        "id": "bwc2eb9Pa4m2"
      }
    },
    {
      "cell_type": "code",
      "source": [
        "loss = tf.losses.SparseCategoricalCrossentropy(from_logits=True)"
      ],
      "metadata": {
        "id": "4wuJ8kxva1CT"
      },
      "execution_count": null,
      "outputs": []
    },
    {
      "cell_type": "code",
      "source": [
        "example_batch_mean_loss = loss(target_example_batch, example_batch_predictions)\n",
        "print(\"Prediction shape: \", example_batch_predictions.shape, \" # (batch_size, sequence_length, vocab_size)\")\n",
        "print(\"Mean loss:        \", example_batch_mean_loss)"
      ],
      "metadata": {
        "colab": {
          "base_uri": "https://localhost:8080/"
        },
        "id": "BDBKd_P9a9U7",
        "outputId": "e46fd899-dd64-4cd4-a77d-059f76676cb9"
      },
      "execution_count": null,
      "outputs": [
        {
          "output_type": "stream",
          "name": "stdout",
          "text": [
            "Prediction shape:  (64, 100, 66)  # (batch_size, sequence_length, vocab_size)\n",
            "Mean loss:         tf.Tensor(4.1899476, shape=(), dtype=float32)\n"
          ]
        }
      ]
    },
    {
      "cell_type": "code",
      "source": [
        "tf.exp(example_batch_mean_loss).numpy()"
      ],
      "metadata": {
        "colab": {
          "base_uri": "https://localhost:8080/"
        },
        "id": "3ufGCT7hG_zi",
        "outputId": "44ab61bd-2c20-4731-fb42-181e7d2c7f3b"
      },
      "execution_count": null,
      "outputs": [
        {
          "output_type": "execute_result",
          "data": {
            "text/plain": [
              "66.01933"
            ]
          },
          "metadata": {},
          "execution_count": 66
        }
      ]
    },
    {
      "cell_type": "code",
      "source": [
        "model.compile(optimizer='adam', loss=loss)"
      ],
      "metadata": {
        "id": "qJtMNI2iHEGa"
      },
      "execution_count": null,
      "outputs": []
    },
    {
      "cell_type": "markdown",
      "source": [
        "**Konfigurasi Checkpoints**"
      ],
      "metadata": {
        "id": "ogP4YELBHH2f"
      }
    },
    {
      "cell_type": "code",
      "source": [
        "# Directory where the checkpoints will be saved\n",
        "checkpoint_dir = './training_checkpoints'\n",
        "# Name of the checkpoint files\n",
        "checkpoint_prefix = os.path.join(checkpoint_dir, \"ckpt_{epoch}\")\n",
        "\n",
        "checkpoint_callback = tf.keras.callbacks.ModelCheckpoint(\n",
        "    filepath=checkpoint_prefix,\n",
        "    save_weights_only=True)"
      ],
      "metadata": {
        "id": "ihJtMIQqHI_3"
      },
      "execution_count": null,
      "outputs": []
    },
    {
      "cell_type": "markdown",
      "source": [
        "**Lakukan Proses Training**"
      ],
      "metadata": {
        "id": "LbxSEgycHMa-"
      }
    },
    {
      "cell_type": "code",
      "source": [
        "EPOCHS = 20"
      ],
      "metadata": {
        "id": "B7TaUZxJHKqL"
      },
      "execution_count": null,
      "outputs": []
    },
    {
      "cell_type": "code",
      "source": [
        "history = model.fit(dataset, epochs=EPOCHS, callbacks=[checkpoint_callback])"
      ],
      "metadata": {
        "colab": {
          "base_uri": "https://localhost:8080/"
        },
        "id": "MQYfHIX-HQqh",
        "outputId": "c5295ff6-b97e-4cc0-c8ad-9076e5877c01"
      },
      "execution_count": null,
      "outputs": [
        {
          "output_type": "stream",
          "name": "stdout",
          "text": [
            "Epoch 1/20\n",
            "172/172 [==============================] - 16s 69ms/step - loss: 2.7062\n",
            "Epoch 2/20\n",
            "172/172 [==============================] - 14s 71ms/step - loss: 1.9803\n",
            "Epoch 3/20\n",
            "172/172 [==============================] - 14s 68ms/step - loss: 1.6988\n",
            "Epoch 4/20\n",
            "172/172 [==============================] - 12s 62ms/step - loss: 1.5393\n",
            "Epoch 5/20\n",
            "172/172 [==============================] - 13s 65ms/step - loss: 1.4411\n",
            "Epoch 6/20\n",
            "172/172 [==============================] - 13s 67ms/step - loss: 1.3742\n",
            "Epoch 7/20\n",
            "172/172 [==============================] - 14s 67ms/step - loss: 1.3223\n",
            "Epoch 8/20\n",
            "172/172 [==============================] - 13s 66ms/step - loss: 1.2785\n",
            "Epoch 9/20\n",
            "172/172 [==============================] - 13s 65ms/step - loss: 1.2379\n",
            "Epoch 10/20\n",
            "172/172 [==============================] - 13s 68ms/step - loss: 1.1983\n",
            "Epoch 11/20\n",
            "172/172 [==============================] - 14s 64ms/step - loss: 1.1586\n",
            "Epoch 12/20\n",
            "172/172 [==============================] - 13s 67ms/step - loss: 1.1180\n",
            "Epoch 13/20\n",
            "172/172 [==============================] - 13s 68ms/step - loss: 1.0746\n",
            "Epoch 14/20\n",
            "172/172 [==============================] - 13s 66ms/step - loss: 1.0288\n",
            "Epoch 15/20\n",
            "172/172 [==============================] - 13s 65ms/step - loss: 0.9815\n",
            "Epoch 16/20\n",
            "172/172 [==============================] - 14s 63ms/step - loss: 0.9314\n",
            "Epoch 17/20\n",
            "172/172 [==============================] - 14s 67ms/step - loss: 0.8794\n",
            "Epoch 18/20\n",
            "172/172 [==============================] - 14s 71ms/step - loss: 0.8272\n",
            "Epoch 19/20\n",
            "172/172 [==============================] - 13s 65ms/step - loss: 0.7765\n",
            "Epoch 20/20\n",
            "172/172 [==============================] - 14s 66ms/step - loss: 0.7292\n"
          ]
        }
      ]
    },
    {
      "cell_type": "markdown",
      "source": [
        "**Generate Teks**"
      ],
      "metadata": {
        "id": "lXx_VH2rHVz3"
      }
    },
    {
      "cell_type": "code",
      "source": [
        "class OneStep(tf.keras.Model):\n",
        "  def __init__(self, model, chars_from_ids, ids_from_chars, temperature=1.0):\n",
        "    super().__init__()\n",
        "    self.temperature = temperature\n",
        "    self.model = model\n",
        "    self.chars_from_ids = chars_from_ids\n",
        "    self.ids_from_chars = ids_from_chars\n",
        "\n",
        "    # Create a mask to prevent \"[UNK]\" from being generated.\n",
        "    skip_ids = self.ids_from_chars(['[UNK]'])[:, None]\n",
        "    sparse_mask = tf.SparseTensor(\n",
        "        # Put a -inf at each bad index.\n",
        "        values=[-float('inf')]*len(skip_ids),\n",
        "        indices=skip_ids,\n",
        "        # Match the shape to the vocabulary\n",
        "        dense_shape=[len(ids_from_chars.get_vocabulary())])\n",
        "    self.prediction_mask = tf.sparse.to_dense(sparse_mask)\n",
        "\n",
        "  @tf.function\n",
        "  def generate_one_step(self, inputs, states=None):\n",
        "    # Convert strings to token IDs.\n",
        "    input_chars = tf.strings.unicode_split(inputs, 'UTF-8')\n",
        "    input_ids = self.ids_from_chars(input_chars).to_tensor()\n",
        "\n",
        "    # Run the model.\n",
        "    # predicted_logits.shape is [batch, char, next_char_logits]\n",
        "    predicted_logits, states = self.model(inputs=input_ids, states=states,\n",
        "                                          return_state=True)\n",
        "    # Only use the last prediction.\n",
        "    predicted_logits = predicted_logits[:, -1, :]\n",
        "    predicted_logits = predicted_logits/self.temperature\n",
        "    # Apply the prediction mask: prevent \"[UNK]\" from being generated.\n",
        "    predicted_logits = predicted_logits + self.prediction_mask\n",
        "\n",
        "    # Sample the output logits to generate token IDs.\n",
        "    predicted_ids = tf.random.categorical(predicted_logits, num_samples=1)\n",
        "    predicted_ids = tf.squeeze(predicted_ids, axis=-1)\n",
        "\n",
        "    # Convert from token ids to characters\n",
        "    predicted_chars = self.chars_from_ids(predicted_ids)\n",
        "\n",
        "    # Return the characters and model state.\n",
        "    return predicted_chars, states"
      ],
      "metadata": {
        "id": "UQZ-RDw8HUX0"
      },
      "execution_count": null,
      "outputs": []
    },
    {
      "cell_type": "code",
      "source": [
        "one_step_model = OneStep(model, chars_from_ids, ids_from_chars)"
      ],
      "metadata": {
        "id": "pbEyaBz4HZBp"
      },
      "execution_count": null,
      "outputs": []
    },
    {
      "cell_type": "code",
      "source": [
        "start = time.time()\n",
        "states = None\n",
        "next_char = tf.constant(['ROMEO:'])\n",
        "result = [next_char]\n",
        "\n",
        "for n in range(1000):\n",
        "  next_char, states = one_step_model.generate_one_step(next_char, states=states)\n",
        "  result.append(next_char)\n",
        "\n",
        "result = tf.strings.join(result)\n",
        "end = time.time()\n",
        "print(result[0].numpy().decode('utf-8'), '\\n\\n' + '_'*80)\n",
        "print('\\nRun time:', end - start)"
      ],
      "metadata": {
        "colab": {
          "base_uri": "https://localhost:8080/"
        },
        "id": "XTlDgT3QHc3D",
        "outputId": "8ead414c-46c9-4b8c-a73d-f8ccbe369ab9"
      },
      "execution_count": null,
      "outputs": [
        {
          "output_type": "stream",
          "name": "stdout",
          "text": [
            "ROMEO:\n",
            "The first deep dotarty with his jewel in act\n",
            "By hap the soldier is from this dempery:\n",
            "And tell me almost freeze the villain's wood,\n",
            "Which six of drooping vowful business forete,\n",
            "Which we is little better plate; adieu!\n",
            "\n",
            "ARAHAM:\n",
            "Nor I.\n",
            "\n",
            "HASTINGS:\n",
            "My lord.\n",
            "\n",
            "GLOUCESTER:\n",
            "Your beauty was I truly Giving the bottom\n",
            "pale for me than all the place your father.\n",
            "\n",
            "BAPUTIS:\n",
            "Ay, but my sword, hear me proceed\n",
            "To banish her here. O, these person,\n",
            "Aftend our neighbours, wife, good father.\n",
            "\n",
            "PETRUCHIO:\n",
            "And you, being send for love; and vile to the\n",
            "Volsces will upon the stroke of men,\n",
            "But palace them, with the lamentation,\n",
            "Be rid up in place offended judge; but have we'll\n",
            "Then my grave light! So it must be even world,\n",
            "It is to do we more the fire-of fault.\n",
            "In Greedan, Strokes not this farthes.\n",
            "\n",
            "Clown:\n",
            "Indeed; but think'st thou met? O, resists he spend the din,\n",
            "Of that our griefs, my grafitable condemn'd\n",
            "Which thou hadst southward still had sent for me;\n",
            "Till then, as thou art wedded to them,\n",
            "And she, too f \n",
            "\n",
            "________________________________________________________________________________\n",
            "\n",
            "Run time: 3.4741623401641846\n"
          ]
        }
      ]
    },
    {
      "cell_type": "code",
      "source": [
        "start = time.time()\n",
        "states = None\n",
        "next_char = tf.constant(['ROMEO:', 'ROMEO:', 'ROMEO:', 'ROMEO:', 'ROMEO:'])\n",
        "result = [next_char]\n",
        "\n",
        "for n in range(1000):\n",
        "  next_char, states = one_step_model.generate_one_step(next_char, states=states)\n",
        "  result.append(next_char)\n",
        "\n",
        "result = tf.strings.join(result)\n",
        "end = time.time()\n",
        "print(result, '\\n\\n' + '_'*80)\n",
        "print('\\nRun time:', end - start)"
      ],
      "metadata": {
        "colab": {
          "base_uri": "https://localhost:8080/"
        },
        "id": "C-BAcK1eHfr4",
        "outputId": "883adff9-3285-45bf-9c60-8fb067d8f55d"
      },
      "execution_count": null,
      "outputs": [
        {
          "output_type": "stream",
          "name": "stdout",
          "text": [
            "tf.Tensor(\n",
            "[b\"ROMEO:\\nNay, hear the justice of your majesty\\nThan been borne their tongues? And then my badress call's\\ncounsel, to say and see this herd of catsARD:\\nThen go my mother! why let's go:\\nBut I have recred to him and could guile,\\nHis sword, I'll make a part of this fiendly resolve.\\n\\nHORTENSIO:\\nGod for his King of England; for the devil' will move\\nbeen we'll acquainted time all men's sons for.\\nCall you go turn to you, sir: were they do so,\\nI pray, why comest thou friar.\\n\\nProvost:\\nPrithee, fellow,\\nPray you he is: he will confess't he must know your father,\\nBut nothing can be ill it off;\\nAnd yet not take't up the seat of Lancaster;\\nAnd indeed and full three-hearts peril helm;\\nBut now, fair lords, take flies: the inclunce attempt\\nOf their lives and the hearts of Rome; fare you\\nwith his bold withal, forget that age and enfled;\\nFor Warwick fears you birth the reverence of the\\nonly. Your mother was the end of thy\\nselflerence; I will conceive a word mine own,\\nWhere we were likely to back yet ununawless.\\nI\"\n",
            " b\"ROMEO:\\nNot within.\\n\\nMERCUTIO:\\nNightly years' heaven!'\\n\\nHAT ANTANU:\\nHave done this boy: being but, sir.\\n\\nRICHARD:\\nNo, Bolingbroke:' dispatch, messenger.\\n\\nDUCHESS OF YORK:\\n\\nHENRY PERCY:\\nNo, by Autidius:\\nWe peace about the colour of his painted attern.\\n\\nGRUMIO:\\nAnd thou this speech, and other Elbowings must recover her occal\\nThe petty brother, there did stay him;\\nShrew your steed dewives: but I do speak the drum i' the world:\\nWhich touches her do wear banish'd; for my shoulders,\\nI will not make for late; but we will;'\\nThere lies in our tender by thy eye;\\nBut as fond thy tears, and lies the house of Lancaster.\\n\\nGLOUCESTER:\\nWhat, think you all would list thine on my chail to me.\\n\\nGLOUCESTER:\\nHe must be marven, our mistress images do\\ngain the people, nor stopp players to herself.\\nThe noble duke me better news of hood,\\nWhen theirs about the parlousful hours\\nAftendon these all of instruments!\\nThou what'sted thrive-day's falsehood for, I think\\nCheerfully and Clarence 'emia;\\nBut much he dreadful court\"\n",
            " b\"ROMEO:\\nNo remedy.\\n\\nFirst Citizen:\\nSo, you shall helce her kingly kissed women-oft three.\\nShe had merry will she never lie;\\nBut I shall grink it as a band of ill instructs.\\n\\nGLOUCESTER:\\nThen wilt thou kill him, Pardon Lord Angelo\\nInjurious quesiness the tender powers\\nOf the forced shall become of an arrivany.\\n\\nSLY:\\nAy, by my troth, as great as well for certain I see me.\\nAh, silence! the state gives shrewdoms here?\\nI tell thee, erg and cherish you on my son.'\\n\\nKING EDWARD IV:\\nThen go along, and she conceive your husband.\\n\\nDUCHESS OF YORK:\\nWhat, ho! methinks, come?\\n\\nAEdile:\\nWhat, what!\\nThou art poor'st-chide, as scarcel hath the mirring fearful is at home.\\nBut where the dove men, she bits ncine;\\nSir Thomas Earl of Northumberland, and mark'd\\nmy soldiers that a pitch my house in his grave,\\nAnd do Consuina at evil, not a partion.\\n\\nGRUMIO:\\nI ad son.\\n\\nCRAUTIO:\\nThen here is Thomas Edward. where is Greece:\\nTake thou the fish, if thou dost burn dryams.\\n\\nGLOUCESTER:\\n\\nKING EDWARD IV:\\nI am indeed out the \"\n",
            " b\"ROMEO:\\nTrue; the provost, content these woe.\\n\\nProvost:\\nIt is a Fevis.\\n\\nGRUMIO:\\nFirst, the headst of great battle often he is, with show'd up,\\nNor hundred when hath judies but beggarsy:\\nAlthough I be gone. Leave not\\nthe feast? O'ed forward, which, whiles I live on him.\\nWho knew of heaven, desert semed Juliet.\\n\\nCAPULET:\\nHow! tribunes, John of Gale how I fight the house;\\nTo rue King Henry and Lancaster:\\nThe weary shall be shed for the stroke,\\nFor your membassadakers worm of York,\\nAnd wear our vanquies all the feet to Will\\nWhich he dishonoured, fected manage,\\nEre tyrannous and friends, hate thee dety?\\nShe might rescue him, now my starse a life?\\n\\nPETER:\\nAnon,\\nWhat peace of this? better, turn this hide that calls?\\n\\nNurse:\\nO lamentable Marcius, this noble man\\nIn us, shall hence to face.\\n\\nEDWARD:\\nNo, marwices, one threy down! It is more gentle oracle:\\nI less the hand married the right. Cousin, sir, he\\nis, he had forgot my chole, my oring: beholds 'tis\\nTo print along; ye went no long.\\nThe wounds her \"\n",
            " b\"ROMEO:\\nNay, but that, methinks, Richard of Rome.\\n\\nMENENIUS:\\nAre you offended foot because the younger stars?\\nCould age Men livery of a king!\\nThese westings are he may over my rights, king,\\nThe other's nose strong swords may call her\\ncounsel.\\n\\nFRIAR LAURENCE:\\nSo it shall be concerns our needful. Hark, how the strength condemned\\nBy all against his groats? who was this fell of that?\\n\\nSecond Murderer:\\nI prithee, give thee! and you lie as for I\\nTake each other time deliver'd\\nOf Friar and honour, but with curses in hims,\\nI loved him free far that we melter thine; the\\ntime Citizen:\\nWhat truly I prime; I'll Boling bend the clouds,\\nThe time shall coll us, to Mantua, since which cloudred\\nshe will beat them, who is there; no wanton that\\nI lead the crown, and yet he play'd it\\nFrom the conquest of the duke. Denish their caps,\\nAnd then deny to the end of Maria,\\nAnd thriave Italy. Then, England's plague make hour\\nHitherd to hear themselves,--let my sent at any day\\nThe ancierous colleps a brace of idleman.\\n\"], shape=(5,), dtype=string) \n",
            "\n",
            "________________________________________________________________________________\n",
            "\n",
            "Run time: 4.099437475204468\n"
          ]
        }
      ]
    },
    {
      "cell_type": "markdown",
      "source": [
        "# Ekspor Model Generator"
      ],
      "metadata": {
        "id": "CwjN6Tx7HiHM"
      }
    },
    {
      "cell_type": "code",
      "source": [
        "tf.saved_model.save(one_step_model, 'one_step')\n",
        "one_step_reloaded = tf.saved_model.load('one_step')"
      ],
      "metadata": {
        "colab": {
          "base_uri": "https://localhost:8080/"
        },
        "id": "gQybEtqiHjj-",
        "outputId": "fab8f2e2-eb9a-4f27-919a-a25119550b0b"
      },
      "execution_count": null,
      "outputs": [
        {
          "output_type": "stream",
          "name": "stderr",
          "text": [
            "WARNING:tensorflow:Skipping full serialization of Keras layer <__main__.OneStep object at 0x7963407c04f0>, because it is not built.\n",
            "WARNING:tensorflow:Model's `__init__()` arguments contain non-serializable objects. Please implement a `get_config()` method in the subclassed Model for proper saving and loading. Defaulting to empty config.\n",
            "WARNING:tensorflow:Model's `__init__()` arguments contain non-serializable objects. Please implement a `get_config()` method in the subclassed Model for proper saving and loading. Defaulting to empty config.\n"
          ]
        }
      ]
    },
    {
      "cell_type": "code",
      "source": [
        "states = None\n",
        "next_char = tf.constant(['ROMEO:'])\n",
        "result = [next_char]\n",
        "\n",
        "for n in range(100):\n",
        "  next_char, states = one_step_reloaded.generate_one_step(next_char, states=states)\n",
        "  result.append(next_char)\n",
        "\n",
        "print(tf.strings.join(result)[0].numpy().decode(\"utf-8\"))"
      ],
      "metadata": {
        "colab": {
          "base_uri": "https://localhost:8080/"
        },
        "id": "FnNyaWPOHpDm",
        "outputId": "9247cb09-a3c0-41f4-9de3-e2253b091a09"
      },
      "execution_count": null,
      "outputs": [
        {
          "output_type": "stream",
          "name": "stdout",
          "text": [
            "ROMEO:\n",
            "No, sir; so unspeak not Edward's doomstary.\n",
            "\n",
            "QUEEN ELIZABETH:\n",
            "Blasch like an oat! for what offender\n"
          ]
        }
      ]
    },
    {
      "cell_type": "markdown",
      "source": [
        "# **TUGAS**"
      ],
      "metadata": {
        "id": "zgT4i4fBNUUo"
      }
    },
    {
      "cell_type": "code",
      "source": [
        "class CustomTraining(MyModel):\n",
        "  @tf.function\n",
        "  def train_step(self, inputs):\n",
        "    inputs, labels = inputs\n",
        "    with tf.GradientTape() as tape:\n",
        "      predictions = self(inputs, training=True)\n",
        "      loss = self.loss(labels, predictions)\n",
        "    grads = tape.gradient(loss, model.trainable_variables)\n",
        "    self.optimizer.apply_gradients(zip(grads, model.trainable_variables))\n",
        "\n",
        "    return {'loss': loss}"
      ],
      "metadata": {
        "id": "FxqE770eNWiZ"
      },
      "execution_count": null,
      "outputs": []
    },
    {
      "cell_type": "code",
      "source": [
        "model = CustomTraining(\n",
        "    vocab_size=len(ids_from_chars.get_vocabulary()),\n",
        "    embedding_dim=embedding_dim,\n",
        "    rnn_units=rnn_units)"
      ],
      "metadata": {
        "id": "V63v0pkGOC69"
      },
      "execution_count": null,
      "outputs": []
    },
    {
      "cell_type": "code",
      "source": [
        "model.compile(optimizer = tf.keras.optimizers.Adam(),\n",
        "              loss=tf.keras.losses.SparseCategoricalCrossentropy(from_logits=True))"
      ],
      "metadata": {
        "id": "bDCLYDe2OG2v"
      },
      "execution_count": null,
      "outputs": []
    },
    {
      "cell_type": "code",
      "source": [
        "model.fit(dataset, epochs=1)"
      ],
      "metadata": {
        "colab": {
          "base_uri": "https://localhost:8080/"
        },
        "id": "rw1sVlrQOJdA",
        "outputId": "2da4299f-e8b8-4177-e4f2-bea7c4045474"
      },
      "execution_count": null,
      "outputs": [
        {
          "output_type": "stream",
          "name": "stdout",
          "text": [
            "172/172 [==============================] - 18s 69ms/step - loss: 2.6874\n"
          ]
        },
        {
          "output_type": "execute_result",
          "data": {
            "text/plain": [
              "<keras.src.callbacks.History at 0x79633b14e740>"
            ]
          },
          "metadata": {},
          "execution_count": 86
        }
      ]
    },
    {
      "cell_type": "code",
      "source": [
        "EPOCHS = 10\n",
        "\n",
        "mean = tf.metrics.Mean()\n",
        "\n",
        "for epoch in range(EPOCHS):\n",
        "    start = time.time()\n",
        "\n",
        "    mean.reset_states()\n",
        "    for (batch_n, (inp, target)) in enumerate(dataset):\n",
        "        logs = model.train_step([inp, target])\n",
        "        mean.update_state(logs['loss'])\n",
        "\n",
        "        if batch_n % 50 == 0:\n",
        "            template = f\"Epoch {epoch+1} Batch {batch_n} Loss {logs['loss']:.4f}\"\n",
        "            print(template)\n",
        "\n",
        "    # saving (checkpoint) the model every 5 epochs\n",
        "    if (epoch + 1) % 5 == 0:\n",
        "        model.save_weights(checkpoint_prefix.format(epoch=epoch))\n",
        "\n",
        "    print()\n",
        "    print(f'Epoch {epoch+1} Loss: {mean.result().numpy():.4f}')\n",
        "    print(f'Time taken for 1 epoch {time.time() - start:.2f} sec')\n",
        "    print(\"_\"*80)\n",
        "\n",
        "model.save_weights(checkpoint_prefix.format(epoch=epoch))"
      ],
      "metadata": {
        "colab": {
          "base_uri": "https://localhost:8080/"
        },
        "id": "sITtdKIxORvh",
        "outputId": "f0fde399-e09c-4e61-8ac8-7487539a0b45"
      },
      "execution_count": null,
      "outputs": [
        {
          "output_type": "stream",
          "name": "stdout",
          "text": [
            "Epoch 1 Batch 0 Loss 2.1479\n",
            "Epoch 1 Batch 50 Loss 2.0532\n",
            "Epoch 1 Batch 100 Loss 1.9558\n",
            "Epoch 1 Batch 150 Loss 1.8677\n",
            "\n",
            "Epoch 1 Loss: 1.9678\n",
            "Time taken for 1 epoch 14.33 sec\n",
            "________________________________________________________________________________\n",
            "Epoch 2 Batch 0 Loss 1.7977\n",
            "Epoch 2 Batch 50 Loss 1.7122\n",
            "Epoch 2 Batch 100 Loss 1.6406\n",
            "Epoch 2 Batch 150 Loss 1.6351\n",
            "\n",
            "Epoch 2 Loss: 1.6925\n",
            "Time taken for 1 epoch 13.79 sec\n",
            "________________________________________________________________________________\n",
            "Epoch 3 Batch 0 Loss 1.5763\n",
            "Epoch 3 Batch 50 Loss 1.5405\n",
            "Epoch 3 Batch 100 Loss 1.4819\n",
            "Epoch 3 Batch 150 Loss 1.5174\n",
            "\n",
            "Epoch 3 Loss: 1.5376\n",
            "Time taken for 1 epoch 13.58 sec\n",
            "________________________________________________________________________________\n",
            "Epoch 4 Batch 0 Loss 1.4595\n",
            "Epoch 4 Batch 50 Loss 1.4457\n",
            "Epoch 4 Batch 100 Loss 1.4475\n",
            "Epoch 4 Batch 150 Loss 1.3474\n",
            "\n",
            "Epoch 4 Loss: 1.4414\n",
            "Time taken for 1 epoch 12.90 sec\n",
            "________________________________________________________________________________\n",
            "Epoch 5 Batch 0 Loss 1.3555\n",
            "Epoch 5 Batch 50 Loss 1.3847\n",
            "Epoch 5 Batch 100 Loss 1.3918\n",
            "Epoch 5 Batch 150 Loss 1.3696\n",
            "\n",
            "Epoch 5 Loss: 1.3751\n",
            "Time taken for 1 epoch 12.79 sec\n",
            "________________________________________________________________________________\n",
            "Epoch 6 Batch 0 Loss 1.3473\n",
            "Epoch 6 Batch 50 Loss 1.3026\n",
            "Epoch 6 Batch 100 Loss 1.3491\n",
            "Epoch 6 Batch 150 Loss 1.3888\n",
            "\n",
            "Epoch 6 Loss: 1.3238\n",
            "Time taken for 1 epoch 12.49 sec\n",
            "________________________________________________________________________________\n",
            "Epoch 7 Batch 0 Loss 1.2612\n",
            "Epoch 7 Batch 50 Loss 1.2597\n",
            "Epoch 7 Batch 100 Loss 1.2489\n",
            "Epoch 7 Batch 150 Loss 1.3107\n",
            "\n",
            "Epoch 7 Loss: 1.2783\n",
            "Time taken for 1 epoch 12.76 sec\n",
            "________________________________________________________________________________\n",
            "Epoch 8 Batch 0 Loss 1.1953\n",
            "Epoch 8 Batch 50 Loss 1.2183\n",
            "Epoch 8 Batch 100 Loss 1.2386\n",
            "Epoch 8 Batch 150 Loss 1.2449\n",
            "\n",
            "Epoch 8 Loss: 1.2379\n",
            "Time taken for 1 epoch 13.24 sec\n",
            "________________________________________________________________________________\n",
            "Epoch 9 Batch 0 Loss 1.1795\n",
            "Epoch 9 Batch 50 Loss 1.1893\n",
            "Epoch 9 Batch 100 Loss 1.1847\n",
            "Epoch 9 Batch 150 Loss 1.1977\n",
            "\n",
            "Epoch 9 Loss: 1.1978\n",
            "Time taken for 1 epoch 12.94 sec\n",
            "________________________________________________________________________________\n",
            "Epoch 10 Batch 0 Loss 1.1103\n",
            "Epoch 10 Batch 50 Loss 1.1644\n",
            "Epoch 10 Batch 100 Loss 1.1920\n",
            "Epoch 10 Batch 150 Loss 1.1702\n",
            "\n",
            "Epoch 10 Loss: 1.1572\n",
            "Time taken for 1 epoch 13.73 sec\n",
            "________________________________________________________________________________\n"
          ]
        }
      ]
    },
    {
      "cell_type": "markdown",
      "source": [
        "Model yang digunakan dalam tugas ini memiliki lebih banyak fleksibilitas dalam pelatihan dan penyesuaian daripada model dalam praktikum 2.\n",
        "\n",
        "Perbedaan utama antara Praktikum 2 dan Tugas adalah bahwa Praktikum 2 adalah tutorial yang mengajarkan cara melakukan generasi teks menggunakan model RNN dengan dataset Shakespeare, sedangkan Tugas adalah implementasi custom training loop untuk melatih model generasi teks, yang memberikan lebih banyak fleksibilitas dan kendali dalam pelatihan model."
      ],
      "metadata": {
        "id": "ZVZibNgkPtP4"
      }
    }
  ]
}